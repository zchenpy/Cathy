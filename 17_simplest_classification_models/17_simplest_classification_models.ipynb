{
 "cells": [
  {
   "cell_type": "markdown",
   "metadata": {
    "toc": true
   },
   "source": [
    "<h1>Table of Contents<span class=\"tocSkip\"></span></h1>\n",
    "<div class=\"toc\"><ul class=\"toc-item\"><li><span><a href=\"#Generate-Targets\" data-toc-modified-id=\"Generate-Targets-1\"><span class=\"toc-item-num\">1&nbsp;&nbsp;</span>Generate Targets</a></span></li><li><span><a href=\"#2.-Simplest-Models\" data-toc-modified-id=\"2.-Simplest-Models-2\"><span class=\"toc-item-num\">2&nbsp;&nbsp;</span>2. Simplest Models</a></span><ul class=\"toc-item\"><li><span><a href=\"#All-Negative-Model\" data-toc-modified-id=\"All-Negative-Model-2.1\"><span class=\"toc-item-num\">2.1&nbsp;&nbsp;</span>All Negative Model</a></span><ul class=\"toc-item\"><li><span><a href=\"#Model-Building\" data-toc-modified-id=\"Model-Building-2.1.1\"><span class=\"toc-item-num\">2.1.1&nbsp;&nbsp;</span>Model Building</a></span></li><li><span><a href=\"#2.1.2-Accuracy\" data-toc-modified-id=\"2.1.2-Accuracy-2.1.2\"><span class=\"toc-item-num\">2.1.2&nbsp;&nbsp;</span>2.1.2 Accuracy</a></span></li><li><span><a href=\"#2.1.2-Precision\" data-toc-modified-id=\"2.1.2-Precision-2.1.3\"><span class=\"toc-item-num\">2.1.3&nbsp;&nbsp;</span>2.1.2 Precision</a></span></li><li><span><a href=\"#2.1.3-Recall\" data-toc-modified-id=\"2.1.3-Recall-2.1.4\"><span class=\"toc-item-num\">2.1.4&nbsp;&nbsp;</span>2.1.3 Recall</a></span></li><li><span><a href=\"#2.1.4-F1-Score\" data-toc-modified-id=\"2.1.4-F1-Score-2.1.5\"><span class=\"toc-item-num\">2.1.5&nbsp;&nbsp;</span>2.1.4 F1 Score</a></span></li><li><span><a href=\"#2.1.5-Classification-Report\" data-toc-modified-id=\"2.1.5-Classification-Report-2.1.6\"><span class=\"toc-item-num\">2.1.6&nbsp;&nbsp;</span>2.1.5 Classification Report</a></span></li><li><span><a href=\"#2.1.6-Confusion-Matrix\" data-toc-modified-id=\"2.1.6-Confusion-Matrix-2.1.7\"><span class=\"toc-item-num\">2.1.7&nbsp;&nbsp;</span>2.1.6 Confusion Matrix</a></span></li></ul></li><li><span><a href=\"#2.2-All-Positive-Model\" data-toc-modified-id=\"2.2-All-Positive-Model-2.2\"><span class=\"toc-item-num\">2.2&nbsp;&nbsp;</span>2.2 All Positive Model</a></span><ul class=\"toc-item\"><li><span><a href=\"#2.2.1-Model-Building\" data-toc-modified-id=\"2.2.1-Model-Building-2.2.1\"><span class=\"toc-item-num\">2.2.1&nbsp;&nbsp;</span>2.2.1 Model Building</a></span></li><li><span><a href=\"#2.2.2-Scores-and-confusion-matrices\" data-toc-modified-id=\"2.2.2-Scores-and-confusion-matrices-2.2.2\"><span class=\"toc-item-num\">2.2.2&nbsp;&nbsp;</span>2.2.2 Scores and confusion matrices</a></span></li></ul></li></ul></li></ul></div>"
   ]
  },
  {
   "cell_type": "markdown",
   "metadata": {},
   "source": [
    "From this notebook, we are going to build classification models."
   ]
  },
  {
   "cell_type": "code",
   "execution_count": 1,
   "metadata": {},
   "outputs": [],
   "source": [
    "import pandas as pd\n",
    "import numpy as np\n",
    "import matplotlib.pyplot as plt\n",
    "import seaborn as sns\n",
    "sns.set(style=\"ticks\")\n",
    "sns.set_style(\"darkgrid\")\n",
    "\n",
    "import warnings\n",
    "warnings.filterwarnings('ignore')"
   ]
  },
  {
   "cell_type": "code",
   "execution_count": 2,
   "metadata": {},
   "outputs": [
    {
     "data": {
      "text/plain": [
       "cost             981\n",
       "price             11\n",
       "weight             4\n",
       "purchase_date      1\n",
       "product_type       1\n",
       "product_level      1\n",
       "maker            824\n",
       "ingredient       256\n",
       "height             0\n",
       "width              4\n",
       "depth              4\n",
       "dtype: int64"
      ]
     },
     "execution_count": 2,
     "metadata": {},
     "output_type": "execute_result"
    }
   ],
   "source": [
    "df = pd.read_csv('sales.csv')\n",
    "df.isnull().sum()"
   ]
  },
  {
   "cell_type": "code",
   "execution_count": 3,
   "metadata": {},
   "outputs": [],
   "source": [
    "df.dropna(subset=['price'], inplace=True)\n",
    "df.index = range(len(df))"
   ]
  },
  {
   "cell_type": "code",
   "execution_count": 4,
   "metadata": {},
   "outputs": [],
   "source": [
    "df['year'] = pd.to_datetime(df.purchase_date).dt.year\n",
    "train_raw = df[df.year < 2015]\n",
    "train_raw.index = range(len(train_raw))\n",
    "test_raw = df[df.year >= 2015]\n",
    "test_raw.index = range(len(test_raw))"
   ]
  },
  {
   "cell_type": "code",
   "execution_count": 5,
   "metadata": {},
   "outputs": [
    {
     "data": {
      "text/plain": [
       "cost             975\n",
       "price              0\n",
       "weight             3\n",
       "purchase_date      0\n",
       "product_type       0\n",
       "product_level      0\n",
       "maker            821\n",
       "ingredient       254\n",
       "height             0\n",
       "width              3\n",
       "depth              3\n",
       "year               0\n",
       "dtype: int64"
      ]
     },
     "execution_count": 5,
     "metadata": {},
     "output_type": "execute_result"
    }
   ],
   "source": [
    "df.isnull().sum()"
   ]
  },
  {
   "cell_type": "markdown",
   "metadata": {},
   "source": [
    "# Generate Targets"
   ]
  },
  {
   "cell_type": "markdown",
   "metadata": {},
   "source": [
    "<font color='red'>Assignment:</font> We define a categorical target **luxury**. If **price** is higher than 500k dollars, we say this item is a **luxury**, and use integer 1 to mark it as positive. Otherwise, we use 0 to mark it as negative. Get the target Series for training and testing data sets (**y_train** and **y_test**), respectively."
   ]
  },
  {
   "cell_type": "code",
   "execution_count": 38,
   "metadata": {},
   "outputs": [
    {
     "data": {
      "text/html": [
       "<div>\n",
       "<style scoped>\n",
       "    .dataframe tbody tr th:only-of-type {\n",
       "        vertical-align: middle;\n",
       "    }\n",
       "\n",
       "    .dataframe tbody tr th {\n",
       "        vertical-align: top;\n",
       "    }\n",
       "\n",
       "    .dataframe thead th {\n",
       "        text-align: right;\n",
       "    }\n",
       "</style>\n",
       "<table border=\"1\" class=\"dataframe\">\n",
       "  <thead>\n",
       "    <tr style=\"text-align: right;\">\n",
       "      <th></th>\n",
       "      <th>cost</th>\n",
       "      <th>price</th>\n",
       "      <th>weight</th>\n",
       "      <th>purchase_date</th>\n",
       "      <th>product_type</th>\n",
       "      <th>product_level</th>\n",
       "      <th>maker</th>\n",
       "      <th>ingredient</th>\n",
       "      <th>height</th>\n",
       "      <th>width</th>\n",
       "      <th>depth</th>\n",
       "      <th>year</th>\n",
       "    </tr>\n",
       "  </thead>\n",
       "  <tbody>\n",
       "    <tr>\n",
       "      <th>0</th>\n",
       "      <td>$333k</td>\n",
       "      <td>$300,492</td>\n",
       "      <td>3 Ton 90 Kg</td>\n",
       "      <td>Dec 19 2008</td>\n",
       "      <td>Q,B</td>\n",
       "      <td>advanced</td>\n",
       "      <td>M14122</td>\n",
       "      <td>IN732052,IN732053</td>\n",
       "      <td>2.76 meters</td>\n",
       "      <td>97 cm</td>\n",
       "      <td>26 cm</td>\n",
       "      <td>2008</td>\n",
       "    </tr>\n",
       "    <tr>\n",
       "      <th>1</th>\n",
       "      <td>NaN</td>\n",
       "      <td>$430,570</td>\n",
       "      <td>3 Ton 30 Kg</td>\n",
       "      <td>Sep 10 1997</td>\n",
       "      <td>J,D</td>\n",
       "      <td>basic</td>\n",
       "      <td>NaN</td>\n",
       "      <td>IN732054,IN732055,IN732056,IN732057,IN732058</td>\n",
       "      <td>2.67 meters</td>\n",
       "      <td>98 cm</td>\n",
       "      <td>26 cm</td>\n",
       "      <td>1997</td>\n",
       "    </tr>\n",
       "    <tr>\n",
       "      <th>2</th>\n",
       "      <td>$270k</td>\n",
       "      <td>$213,070</td>\n",
       "      <td>3 Ton 40 Kg</td>\n",
       "      <td>Sep 05 2001</td>\n",
       "      <td>J,D</td>\n",
       "      <td>basic</td>\n",
       "      <td>NaN</td>\n",
       "      <td>IN732054,IN732059,IN732060</td>\n",
       "      <td>3.0 meters</td>\n",
       "      <td>93 cm</td>\n",
       "      <td>24 cm</td>\n",
       "      <td>2001</td>\n",
       "    </tr>\n",
       "    <tr>\n",
       "      <th>3</th>\n",
       "      <td>$97k</td>\n",
       "      <td>$122,659</td>\n",
       "      <td>2 Ton 970 Kg</td>\n",
       "      <td>Jan 12 2000</td>\n",
       "      <td>D,R</td>\n",
       "      <td>advanced</td>\n",
       "      <td>NaN</td>\n",
       "      <td>IN732064,IN732065,IN732066</td>\n",
       "      <td>2.47 meters</td>\n",
       "      <td>101 cm</td>\n",
       "      <td>26 cm</td>\n",
       "      <td>2000</td>\n",
       "    </tr>\n",
       "    <tr>\n",
       "      <th>4</th>\n",
       "      <td>$59k</td>\n",
       "      <td>$60,320</td>\n",
       "      <td>2 Ton 930 Kg</td>\n",
       "      <td>Aug 19 2011</td>\n",
       "      <td>H</td>\n",
       "      <td>super advanced</td>\n",
       "      <td>M14124</td>\n",
       "      <td>IN732067,IN732068,IN732069,IN732070,IN732071,I...</td>\n",
       "      <td>2.71 meters</td>\n",
       "      <td>96 cm</td>\n",
       "      <td>25 cm</td>\n",
       "      <td>2011</td>\n",
       "    </tr>\n",
       "  </tbody>\n",
       "</table>\n",
       "</div>"
      ],
      "text/plain": [
       "    cost     price        weight purchase_date product_type   product_level  \\\n",
       "0  $333k  $300,492   3 Ton 90 Kg   Dec 19 2008          Q,B        advanced   \n",
       "1    NaN  $430,570   3 Ton 30 Kg   Sep 10 1997          J,D           basic   \n",
       "2  $270k  $213,070   3 Ton 40 Kg   Sep 05 2001          J,D           basic   \n",
       "3   $97k  $122,659  2 Ton 970 Kg   Jan 12 2000          D,R        advanced   \n",
       "4   $59k   $60,320  2 Ton 930 Kg   Aug 19 2011            H  super advanced   \n",
       "\n",
       "    maker                                         ingredient       height  \\\n",
       "0  M14122                                  IN732052,IN732053  2.76 meters   \n",
       "1     NaN       IN732054,IN732055,IN732056,IN732057,IN732058  2.67 meters   \n",
       "2     NaN                         IN732054,IN732059,IN732060   3.0 meters   \n",
       "3     NaN                         IN732064,IN732065,IN732066  2.47 meters   \n",
       "4  M14124  IN732067,IN732068,IN732069,IN732070,IN732071,I...  2.71 meters   \n",
       "\n",
       "    width  depth  year  \n",
       "0   97 cm  26 cm  2008  \n",
       "1   98 cm  26 cm  1997  \n",
       "2   93 cm  24 cm  2001  \n",
       "3  101 cm  26 cm  2000  \n",
       "4   96 cm  25 cm  2011  "
      ]
     },
     "execution_count": 38,
     "metadata": {},
     "output_type": "execute_result"
    }
   ],
   "source": [
    "train_raw.head()"
   ]
  },
  {
   "cell_type": "code",
   "execution_count": 7,
   "metadata": {},
   "outputs": [],
   "source": [
    "#target = df.price.map(lambda x: float(x.strip('$').replace(',','')))"
   ]
  },
  {
   "cell_type": "code",
   "execution_count": 8,
   "metadata": {},
   "outputs": [],
   "source": [
    "def price2target(x):\n",
    "    if type(x) == str:\n",
    "        x = float(x.strip('$').replace(',',''))\n",
    "    \n",
    "    if x > 500000.0:\n",
    "        return 1\n",
    "    return 0"
   ]
  },
  {
   "cell_type": "code",
   "execution_count": 9,
   "metadata": {},
   "outputs": [],
   "source": [
    "y_train = train_raw.price.map(price2target)\n",
    "y_test =  test_raw.price.map(price2target)"
   ]
  },
  {
   "cell_type": "code",
   "execution_count": 10,
   "metadata": {},
   "outputs": [],
   "source": [
    "#sum(y_train == 1)"
   ]
  },
  {
   "cell_type": "code",
   "execution_count": 11,
   "metadata": {},
   "outputs": [],
   "source": [
    "#sum(y_test == 1)"
   ]
  },
  {
   "cell_type": "markdown",
   "metadata": {},
   "source": [
    "<font color='red'>Assignment:</font> Visualize the comparison between the numbers of positive and negative data points. **Hint:** You could use either bar chart or pie chart."
   ]
  },
  {
   "cell_type": "code",
   "execution_count": 12,
   "metadata": {},
   "outputs": [
    {
     "data": {
      "text/plain": [
       "Text(0, 0.5, 'Data points')"
      ]
     },
     "execution_count": 12,
     "metadata": {},
     "output_type": "execute_result"
    },
    {
     "data": {
      "image/png": "[encoded data removed]",
      "text/plain": [
       "<Figure size 576x288 with 1 Axes>"
      ]
     },
     "metadata": {},
     "output_type": "display_data"
    }
   ],
   "source": [
    "kind = ['positive','negtive']\n",
    "count = [sum(y_train ==1),sum(y_train==0)]\n",
    "plt.figure(figsize=(8,4))\n",
    "sns.barplot(kind,count)\n",
    "plt.ylabel('Data points')"
   ]
  },
  {
   "cell_type": "markdown",
   "metadata": {},
   "source": [
    "<font color='red'>Question:</font> What is the definition of base rate?"
   ]
  },
  {
   "cell_type": "markdown",
   "metadata": {},
   "source": [
    "https://en.wikipedia.org/wiki/Base_rate\n",
    "\n",
    "In probability and statistics, the base rate (also known as prior probabilities) is the class of probabilities unconditional on \"featural evidence\" (likelihoods). For example, if it were the case that 1% of the public were medical professionals, and 99% of the public were not medical professionals, then the base rate of medical professionals is simply 1%. The normative method for integrating base rates and featural evidence is given by Bayes' rule.    "
   ]
  },
  {
   "cell_type": "markdown",
   "metadata": {},
   "source": [
    "<font color='red'>Question:</font> What is the base rate in this case?"
   ]
  },
  {
   "cell_type": "markdown",
   "metadata": {},
   "source": [
    "In train set, base rate = "
   ]
  },
  {
   "cell_type": "code",
   "execution_count": 32,
   "metadata": {},
   "outputs": [
    {
     "data": {
      "text/plain": [
       "0.06673920928545521"
      ]
     },
     "execution_count": 32,
     "metadata": {},
     "output_type": "execute_result"
    }
   ],
   "source": [
    "base_rate = sum(y_train == 1)/len(y_train)\n",
    "base_rate"
   ]
  },
  {
   "cell_type": "markdown",
   "metadata": {},
   "source": [
    "# 2. Simplest Models"
   ]
  },
  {
   "cell_type": "code",
   "execution_count": 14,
   "metadata": {},
   "outputs": [
    {
     "data": {
      "text/html": [
       "<div>\n",
       "<style scoped>\n",
       "    .dataframe tbody tr th:only-of-type {\n",
       "        vertical-align: middle;\n",
       "    }\n",
       "\n",
       "    .dataframe tbody tr th {\n",
       "        vertical-align: top;\n",
       "    }\n",
       "\n",
       "    .dataframe thead th {\n",
       "        text-align: right;\n",
       "    }\n",
       "</style>\n",
       "<table border=\"1\" class=\"dataframe\">\n",
       "  <thead>\n",
       "    <tr style=\"text-align: right;\">\n",
       "      <th></th>\n",
       "      <th>cost</th>\n",
       "      <th>price</th>\n",
       "      <th>weight</th>\n",
       "      <th>purchase_date</th>\n",
       "      <th>product_type</th>\n",
       "      <th>product_level</th>\n",
       "      <th>maker</th>\n",
       "      <th>ingredient</th>\n",
       "      <th>height</th>\n",
       "      <th>width</th>\n",
       "      <th>depth</th>\n",
       "      <th>year</th>\n",
       "    </tr>\n",
       "  </thead>\n",
       "  <tbody>\n",
       "    <tr>\n",
       "      <th>0</th>\n",
       "      <td>$333k</td>\n",
       "      <td>$300,492</td>\n",
       "      <td>3 Ton 90 Kg</td>\n",
       "      <td>Dec 19 2008</td>\n",
       "      <td>Q,B</td>\n",
       "      <td>advanced</td>\n",
       "      <td>M14122</td>\n",
       "      <td>IN732052,IN732053</td>\n",
       "      <td>2.76 meters</td>\n",
       "      <td>97 cm</td>\n",
       "      <td>26 cm</td>\n",
       "      <td>2008</td>\n",
       "    </tr>\n",
       "    <tr>\n",
       "      <th>1</th>\n",
       "      <td>NaN</td>\n",
       "      <td>$430,570</td>\n",
       "      <td>3 Ton 30 Kg</td>\n",
       "      <td>Sep 10 1997</td>\n",
       "      <td>J,D</td>\n",
       "      <td>basic</td>\n",
       "      <td>NaN</td>\n",
       "      <td>IN732054,IN732055,IN732056,IN732057,IN732058</td>\n",
       "      <td>2.67 meters</td>\n",
       "      <td>98 cm</td>\n",
       "      <td>26 cm</td>\n",
       "      <td>1997</td>\n",
       "    </tr>\n",
       "    <tr>\n",
       "      <th>2</th>\n",
       "      <td>$270k</td>\n",
       "      <td>$213,070</td>\n",
       "      <td>3 Ton 40 Kg</td>\n",
       "      <td>Sep 05 2001</td>\n",
       "      <td>J,D</td>\n",
       "      <td>basic</td>\n",
       "      <td>NaN</td>\n",
       "      <td>IN732054,IN732059,IN732060</td>\n",
       "      <td>3.0 meters</td>\n",
       "      <td>93 cm</td>\n",
       "      <td>24 cm</td>\n",
       "      <td>2001</td>\n",
       "    </tr>\n",
       "    <tr>\n",
       "      <th>3</th>\n",
       "      <td>NaN</td>\n",
       "      <td>$229,174</td>\n",
       "      <td>3 Ton 50 Kg</td>\n",
       "      <td>Dec 23 2016</td>\n",
       "      <td>U</td>\n",
       "      <td>advanced</td>\n",
       "      <td>M14123</td>\n",
       "      <td>IN732061,IN732062,IN732063</td>\n",
       "      <td>2.5 meters</td>\n",
       "      <td>102 cm</td>\n",
       "      <td>27 cm</td>\n",
       "      <td>2016</td>\n",
       "    </tr>\n",
       "    <tr>\n",
       "      <th>4</th>\n",
       "      <td>$97k</td>\n",
       "      <td>$122,659</td>\n",
       "      <td>2 Ton 970 Kg</td>\n",
       "      <td>Jan 12 2000</td>\n",
       "      <td>D,R</td>\n",
       "      <td>advanced</td>\n",
       "      <td>NaN</td>\n",
       "      <td>IN732064,IN732065,IN732066</td>\n",
       "      <td>2.47 meters</td>\n",
       "      <td>101 cm</td>\n",
       "      <td>26 cm</td>\n",
       "      <td>2000</td>\n",
       "    </tr>\n",
       "  </tbody>\n",
       "</table>\n",
       "</div>"
      ],
      "text/plain": [
       "    cost     price        weight purchase_date product_type product_level  \\\n",
       "0  $333k  $300,492   3 Ton 90 Kg   Dec 19 2008          Q,B      advanced   \n",
       "1    NaN  $430,570   3 Ton 30 Kg   Sep 10 1997          J,D         basic   \n",
       "2  $270k  $213,070   3 Ton 40 Kg   Sep 05 2001          J,D         basic   \n",
       "3    NaN  $229,174   3 Ton 50 Kg   Dec 23 2016            U      advanced   \n",
       "4   $97k  $122,659  2 Ton 970 Kg   Jan 12 2000          D,R      advanced   \n",
       "\n",
       "    maker                                    ingredient       height   width  \\\n",
       "0  M14122                             IN732052,IN732053  2.76 meters   97 cm   \n",
       "1     NaN  IN732054,IN732055,IN732056,IN732057,IN732058  2.67 meters   98 cm   \n",
       "2     NaN                    IN732054,IN732059,IN732060   3.0 meters   93 cm   \n",
       "3  M14123                    IN732061,IN732062,IN732063   2.5 meters  102 cm   \n",
       "4     NaN                    IN732064,IN732065,IN732066  2.47 meters  101 cm   \n",
       "\n",
       "   depth  year  \n",
       "0  26 cm  2008  \n",
       "1  26 cm  1997  \n",
       "2  24 cm  2001  \n",
       "3  27 cm  2016  \n",
       "4  26 cm  2000  "
      ]
     },
     "execution_count": 14,
     "metadata": {},
     "output_type": "execute_result"
    }
   ],
   "source": [
    "df.head()"
   ]
  },
  {
   "cell_type": "code",
   "execution_count": 15,
   "metadata": {},
   "outputs": [],
   "source": [
    "from sklearn.feature_extraction.text import CountVectorizer \n",
    "from sklearn.impute import SimpleImputer\n",
    "from sklearn.ensemble import RandomForestRegressor\n",
    "from sklearn.model_selection import cross_val_score\n",
    "\n",
    "class rf_Transformer():\n",
    "    \n",
    "    def fit(self,X,y=None):\n",
    "        X=X.reset_index(drop=True)\n",
    "        df = pd.DataFrame()\n",
    "        df['cost'] = X.cost.map(self.cost2num)\n",
    "        df['depth'] = X.depth.map(self.depth2num)\n",
    "        df['width'] = X.width.map(self.width2num)\n",
    "        df['height'] = X.height.map(self.height2num)\n",
    "        df['weight'] = X.weight.map(self.weight2num)\n",
    "        purchase_date = pd.to_datetime(X.purchase_date)\n",
    "        #df['weekday']=purchase_date.dt.weekday\n",
    "        #df['month']=purchase_date.dt.month\n",
    "        df['product_level'] = X.product_level.map({'unrated':0, 'basic':1,\n",
    "                                                      'intermediate':2,'advanced':3,'super advanced':4})\n",
    "        \n",
    "        #self.product_type_dict = X.product_type.value_counts().to_dict() # frequency of each product\n",
    "        self.product_type_frequency_dictionary = (X.product_type.value_counts()/X.product_type.value_counts().sum()).to_dict()\n",
    "        \n",
    "        #self.maker_dict = (X.maker.value_counts()/X.maker.value_counts().sum()).to_dict()\n",
    "        #df['maker'] = X.maker.map(self.maker_dict)  # frequency of each maker\n",
    "       \n",
    "        df['product_type'] = X.product_type.map(self.product_type_frequency_dictionary)\n",
    "        \n",
    "        df['ingredient_count'] = X.ingredient.map(self.split)  # number of ingredient\n",
    "                                                   \n",
    "                                                 \n",
    "    def transform(self,X, y=None):\n",
    "        X=X.reset_index(drop=True)\n",
    "        df = pd.DataFrame()\n",
    "        df['cost'] = X.cost.map(self.cost2num)\n",
    "        df['depth'] = X.depth.map(self.depth2num)\n",
    "        df['width'] = X.width.map(self.width2num)\n",
    "        df['height'] = X.height.map(self.height2num)\n",
    "        df['weight'] = X.weight.map(self.weight2num)\n",
    "        purchase_date = pd.to_datetime(X.purchase_date)\n",
    "        #df['weekday']=purchase_date.dt.weekday\n",
    "        #df['month']=purchase_date.dt.month\n",
    "        df['product_level'] = X['product_level'].map({'unrated':0, 'basic':1,\n",
    "                                                      'intermediate':2,'advanced':3,'super advanced':4})\n",
    "        df['product_type'] = X.product_type.map(self.product_type_frequency_dictionary)\n",
    "        \n",
    "        #df['maker'] = X.maker.map(self.maker_dict)  # frequency of each maker\n",
    "        \n",
    "        \n",
    "        df['ingredient_count'] = X.ingredient.map(self.split)  # number of ingredient\n",
    "        return self.fillna_rf(df)\n",
    "    \n",
    "    def fit_transform(self,X,y=None):\n",
    "        self.fit(X,y)\n",
    "        return self.transform(X,y)\n",
    "    \n",
    "    \n",
    "    \n",
    "    def split(self,x):\n",
    "        if type(x) == str:\n",
    "            x = x.split(',')\n",
    "            return len(x)\n",
    "        return 0\n",
    "      \n",
    "        \n",
    "    def cost2num(self, x):\n",
    "        if type(x) == str: \n",
    "            x = x.strip('$').strip('k')\n",
    "            return float(x)*1000\n",
    "        return x\n",
    "    \n",
    "        \n",
    "    def price2num(self,x):\n",
    "        if type(x) == str:\n",
    "            x = x.strip('$').replace(',','')\n",
    "            return float(x)\n",
    "        return x\n",
    "    \n",
    "    def weight2num(self,x):\n",
    "        if type(x) == str:\n",
    "            x = x.strip('Kg')\n",
    "            x_list = x.split('Ton')\n",
    "            return float(x_list[0])*1000 + float(x_list[1])\n",
    "        return x\n",
    "    \n",
    "    def height2num(self,x):\n",
    "        if type(x) == str:\n",
    "            x = x.strip('meters')\n",
    "            return float(x)\n",
    "        return x\n",
    "        \n",
    "    def width2num(self,x):\n",
    "        if type(x) == str:\n",
    "            x = x.strip('cm')\n",
    "            return float(x)\n",
    "        return x\n",
    "    \n",
    "    def depth2num(self,x):\n",
    "        if type(x) == str:\n",
    "            x = x.strip('cm')\n",
    "            return float(x)\n",
    "        return x\n",
    "        \n",
    "            \n",
    "    \n",
    "    def fillna_rf(self,data):\n",
    "        column_name = data.columns\n",
    "        sortindex = np.argsort(data.isnull().sum(axis=0)).values#np.argsort() return a list with sorted index\n",
    "        data_ = data.rename(columns={x:y for x,y in zip(column_name,range(0,len(column_name)))})\n",
    "\n",
    "        for i in sortindex:\n",
    "            if data_.iloc[:,i].isnull().sum()!=0:\n",
    "                #print('i=',i)\n",
    "\n",
    "                # creat a new dataframe (features without selected feature(need to fill) + target) + new target(set selected feature as new target)\n",
    "                df = data_\n",
    "                fillc = df.iloc[:,i]#new target\n",
    "                df = df.iloc[:,df.columns != i]#new dataframe\n",
    "\n",
    "                #in new dataframe，use median to fill NaN \n",
    "                df_0 =SimpleImputer(missing_values=np.nan,strategy='median').fit_transform(df)\n",
    "\n",
    "                #set train and test set\n",
    "                Ytrain = fillc[fillc.notnull()]# Ytrain is selected feature(current target) with not null values \n",
    "                Ytest = fillc[fillc.isnull()]#Ytest is selected feature(current target) with null values\n",
    "                Xtrain = df_0[Ytrain.index,:]# get index of not null values\n",
    "                Xtest = df_0[Ytest.index,:]# get index of null values\n",
    "\n",
    "                #using random forest to fillna\n",
    "                rfc = RandomForestRegressor(n_estimators=15,random_state = 2022)\n",
    "                rfc = rfc.fit(Xtrain, Ytrain)\n",
    "                Ypredict = rfc.predict(Xtest)\n",
    "\n",
    "                #reset the value in original dataframe with predicted value\n",
    "                data_.loc[data_.iloc[:,i].isnull(),i] = Ypredict\n",
    "        data = data_.rename(columns={y:x for x,y in zip(column_name,range(0,len(column_name)))})       \n",
    "        return data              "
   ]
  },
  {
   "cell_type": "code",
   "execution_count": 16,
   "metadata": {},
   "outputs": [],
   "source": [
    "rf_tf = rf_Transformer()"
   ]
  },
  {
   "cell_type": "code",
   "execution_count": 17,
   "metadata": {},
   "outputs": [
    {
     "data": {
      "text/html": [
       "<div>\n",
       "<style scoped>\n",
       "    .dataframe tbody tr th:only-of-type {\n",
       "        vertical-align: middle;\n",
       "    }\n",
       "\n",
       "    .dataframe tbody tr th {\n",
       "        vertical-align: top;\n",
       "    }\n",
       "\n",
       "    .dataframe thead th {\n",
       "        text-align: right;\n",
       "    }\n",
       "</style>\n",
       "<table border=\"1\" class=\"dataframe\">\n",
       "  <thead>\n",
       "    <tr style=\"text-align: right;\">\n",
       "      <th></th>\n",
       "      <th>cost</th>\n",
       "      <th>depth</th>\n",
       "      <th>width</th>\n",
       "      <th>height</th>\n",
       "      <th>weight</th>\n",
       "      <th>product_level</th>\n",
       "      <th>product_type</th>\n",
       "      <th>ingredient_count</th>\n",
       "    </tr>\n",
       "  </thead>\n",
       "  <tbody>\n",
       "    <tr>\n",
       "      <th>0</th>\n",
       "      <td>333000.000000</td>\n",
       "      <td>26.0</td>\n",
       "      <td>97.0</td>\n",
       "      <td>2.76</td>\n",
       "      <td>3090.0</td>\n",
       "      <td>3</td>\n",
       "      <td>0.009431</td>\n",
       "      <td>2</td>\n",
       "    </tr>\n",
       "    <tr>\n",
       "      <th>1</th>\n",
       "      <td>171133.333333</td>\n",
       "      <td>26.0</td>\n",
       "      <td>98.0</td>\n",
       "      <td>2.67</td>\n",
       "      <td>3030.0</td>\n",
       "      <td>1</td>\n",
       "      <td>0.034095</td>\n",
       "      <td>5</td>\n",
       "    </tr>\n",
       "    <tr>\n",
       "      <th>2</th>\n",
       "      <td>270000.000000</td>\n",
       "      <td>24.0</td>\n",
       "      <td>93.0</td>\n",
       "      <td>3.00</td>\n",
       "      <td>3040.0</td>\n",
       "      <td>1</td>\n",
       "      <td>0.034095</td>\n",
       "      <td>3</td>\n",
       "    </tr>\n",
       "    <tr>\n",
       "      <th>3</th>\n",
       "      <td>97000.000000</td>\n",
       "      <td>26.0</td>\n",
       "      <td>101.0</td>\n",
       "      <td>2.47</td>\n",
       "      <td>2970.0</td>\n",
       "      <td>3</td>\n",
       "      <td>0.058034</td>\n",
       "      <td>3</td>\n",
       "    </tr>\n",
       "    <tr>\n",
       "      <th>4</th>\n",
       "      <td>59000.000000</td>\n",
       "      <td>25.0</td>\n",
       "      <td>96.0</td>\n",
       "      <td>2.71</td>\n",
       "      <td>2930.0</td>\n",
       "      <td>4</td>\n",
       "      <td>0.054044</td>\n",
       "      <td>6</td>\n",
       "    </tr>\n",
       "    <tr>\n",
       "      <th>...</th>\n",
       "      <td>...</td>\n",
       "      <td>...</td>\n",
       "      <td>...</td>\n",
       "      <td>...</td>\n",
       "      <td>...</td>\n",
       "      <td>...</td>\n",
       "      <td>...</td>\n",
       "      <td>...</td>\n",
       "    </tr>\n",
       "    <tr>\n",
       "      <th>2752</th>\n",
       "      <td>254000.000000</td>\n",
       "      <td>30.0</td>\n",
       "      <td>113.0</td>\n",
       "      <td>2.02</td>\n",
       "      <td>3040.0</td>\n",
       "      <td>2</td>\n",
       "      <td>0.151251</td>\n",
       "      <td>13</td>\n",
       "    </tr>\n",
       "    <tr>\n",
       "      <th>2753</th>\n",
       "      <td>91000.000000</td>\n",
       "      <td>26.0</td>\n",
       "      <td>99.0</td>\n",
       "      <td>2.52</td>\n",
       "      <td>2890.0</td>\n",
       "      <td>3</td>\n",
       "      <td>0.151251</td>\n",
       "      <td>8</td>\n",
       "    </tr>\n",
       "    <tr>\n",
       "      <th>2754</th>\n",
       "      <td>305533.333333</td>\n",
       "      <td>28.0</td>\n",
       "      <td>106.0</td>\n",
       "      <td>2.15</td>\n",
       "      <td>2830.0</td>\n",
       "      <td>2</td>\n",
       "      <td>0.023576</td>\n",
       "      <td>6</td>\n",
       "    </tr>\n",
       "    <tr>\n",
       "      <th>2755</th>\n",
       "      <td>44000.000000</td>\n",
       "      <td>26.0</td>\n",
       "      <td>100.0</td>\n",
       "      <td>2.52</td>\n",
       "      <td>2950.0</td>\n",
       "      <td>3</td>\n",
       "      <td>0.020675</td>\n",
       "      <td>1</td>\n",
       "    </tr>\n",
       "    <tr>\n",
       "      <th>2756</th>\n",
       "      <td>128000.000000</td>\n",
       "      <td>24.0</td>\n",
       "      <td>92.0</td>\n",
       "      <td>2.96</td>\n",
       "      <td>2980.0</td>\n",
       "      <td>4</td>\n",
       "      <td>0.062387</td>\n",
       "      <td>0</td>\n",
       "    </tr>\n",
       "  </tbody>\n",
       "</table>\n",
       "<p>2757 rows × 8 columns</p>\n",
       "</div>"
      ],
      "text/plain": [
       "               cost  depth  width  height  weight  product_level  \\\n",
       "0     333000.000000   26.0   97.0    2.76  3090.0              3   \n",
       "1     171133.333333   26.0   98.0    2.67  3030.0              1   \n",
       "2     270000.000000   24.0   93.0    3.00  3040.0              1   \n",
       "3      97000.000000   26.0  101.0    2.47  2970.0              3   \n",
       "4      59000.000000   25.0   96.0    2.71  2930.0              4   \n",
       "...             ...    ...    ...     ...     ...            ...   \n",
       "2752  254000.000000   30.0  113.0    2.02  3040.0              2   \n",
       "2753   91000.000000   26.0   99.0    2.52  2890.0              3   \n",
       "2754  305533.333333   28.0  106.0    2.15  2830.0              2   \n",
       "2755   44000.000000   26.0  100.0    2.52  2950.0              3   \n",
       "2756  128000.000000   24.0   92.0    2.96  2980.0              4   \n",
       "\n",
       "      product_type  ingredient_count  \n",
       "0         0.009431                 2  \n",
       "1         0.034095                 5  \n",
       "2         0.034095                 3  \n",
       "3         0.058034                 3  \n",
       "4         0.054044                 6  \n",
       "...            ...               ...  \n",
       "2752      0.151251                13  \n",
       "2753      0.151251                 8  \n",
       "2754      0.023576                 6  \n",
       "2755      0.020675                 1  \n",
       "2756      0.062387                 0  \n",
       "\n",
       "[2757 rows x 8 columns]"
      ]
     },
     "execution_count": 17,
     "metadata": {},
     "output_type": "execute_result"
    }
   ],
   "source": [
    "rf_tf.fit_transform(train_raw)"
   ]
  },
  {
   "cell_type": "markdown",
   "metadata": {},
   "source": [
    "## All Negative Model"
   ]
  },
  {
   "cell_type": "markdown",
   "metadata": {},
   "source": [
    "### Model Building"
   ]
  },
  {
   "cell_type": "markdown",
   "metadata": {},
   "source": [
    "<font color='red'>Assignment:</font> Build a model which always predicts 0."
   ]
  },
  {
   "cell_type": "code",
   "execution_count": 18,
   "metadata": {},
   "outputs": [
    {
     "data": {
      "text/plain": [
       "DummyClassifier(constant=0, strategy='constant')"
      ]
     },
     "execution_count": 18,
     "metadata": {},
     "output_type": "execute_result"
    }
   ],
   "source": [
    "from sklearn.dummy import DummyClassifier\n",
    "dummy_clf = DummyClassifier(strategy=\"constant\",constant = 0)\n",
    "\n",
    "dummy_clf.fit(train_raw,y_train)\n"
   ]
  },
  {
   "cell_type": "markdown",
   "metadata": {},
   "source": [
    "<font color='red'>Assignment:</font> Make predictions for both training and testing data."
   ]
  },
  {
   "cell_type": "code",
   "execution_count": 19,
   "metadata": {},
   "outputs": [],
   "source": [
    "from sklearn.dummy import DummyClassifier\n",
    "from sklearn.pipeline import Pipeline\n",
    "from sklearn.preprocessing import StandardScaler\n",
    "\n",
    "steps = [('rf_tf ',rf_Transformer())\n",
    "         ,('Rescale', StandardScaler())\n",
    "         ,('dummy_clf', DummyClassifier(strategy=\"constant\",constant = 0))]\n",
    "allzeromodel= Pipeline(steps)\n",
    "\n",
    "allzeromodel=allzeromodel.fit(train_raw,y_train)"
   ]
  },
  {
   "cell_type": "code",
   "execution_count": 20,
   "metadata": {},
   "outputs": [],
   "source": [
    "y_train_pred = allzeromodel.predict(train_raw)\n",
    "y_test_pred = allzeromodel.predict(test_raw)"
   ]
  },
  {
   "cell_type": "code",
   "execution_count": 21,
   "metadata": {},
   "outputs": [
    {
     "data": {
      "text/plain": [
       "2757"
      ]
     },
     "execution_count": 21,
     "metadata": {},
     "output_type": "execute_result"
    }
   ],
   "source": [
    "len(train_raw)"
   ]
  },
  {
   "cell_type": "code",
   "execution_count": 22,
   "metadata": {},
   "outputs": [
    {
     "data": {
      "text/plain": [
       "2757"
      ]
     },
     "execution_count": 22,
     "metadata": {},
     "output_type": "execute_result"
    }
   ],
   "source": [
    "len(y_train_pred[y_train_pred == 0])"
   ]
  },
  {
   "cell_type": "code",
   "execution_count": 23,
   "metadata": {},
   "outputs": [
    {
     "data": {
      "text/plain": [
       "429"
      ]
     },
     "execution_count": 23,
     "metadata": {},
     "output_type": "execute_result"
    }
   ],
   "source": [
    "len(y_test_pred[y_test_pred == 0])"
   ]
  },
  {
   "cell_type": "markdown",
   "metadata": {},
   "source": [
    "### 2.1.2 Accuracy"
   ]
  },
  {
   "cell_type": "markdown",
   "metadata": {},
   "source": [
    "<font color='red'>Assignment:</font> Calculate the training and testing **accuracy_score**s.\n",
    "\n",
    "https://blog.csdn.net/hfutdog/article/details/88085878"
   ]
  },
  {
   "cell_type": "code",
   "execution_count": 24,
   "metadata": {},
   "outputs": [
    {
     "data": {
      "text/plain": [
       "0.9332607907145448"
      ]
     },
     "execution_count": 24,
     "metadata": {},
     "output_type": "execute_result"
    }
   ],
   "source": [
    "from sklearn.metrics import accuracy_score\n",
    "accuracy_score(y_train,y_train_pred)"
   ]
  },
  {
   "cell_type": "code",
   "execution_count": 25,
   "metadata": {},
   "outputs": [
    {
     "data": {
      "text/plain": [
       "0.8927738927738927"
      ]
     },
     "execution_count": 25,
     "metadata": {},
     "output_type": "execute_result"
    }
   ],
   "source": [
    "accuracy_score(y_test,y_test_pred)"
   ]
  },
  {
   "cell_type": "markdown",
   "metadata": {},
   "source": [
    "<font color='red'>Question:</font> How is accuracy score calculated?"
   ]
  },
  {
   "cell_type": "markdown",
   "metadata": {},
   "source": [
    "Accuracy= n_correct / n_total\n",
    "\n",
    "n_corredt: sample number of the sample with right classification\n",
    "\n",
    "n_total: total sample size"
   ]
  },
  {
   "cell_type": "markdown",
   "metadata": {},
   "source": [
    "<font color='red'>Question:</font> Are the accuracy scores good? Why is that? Is the model useful?"
   ]
  },
  {
   "cell_type": "markdown",
   "metadata": {},
   "source": [
    "No. Sample is unbalanced dataset. The accuracy is high but it is useless."
   ]
  },
  {
   "cell_type": "markdown",
   "metadata": {},
   "source": [
    "<font color='red'>Question:</font> How is accuracy score related to base rate?"
   ]
  },
  {
   "cell_type": "markdown",
   "metadata": {},
   "source": [
    " accuracy score = 1 - base rate"
   ]
  },
  {
   "cell_type": "code",
   "execution_count": 31,
   "metadata": {},
   "outputs": [
    {
     "name": "stdout",
     "output_type": "stream",
     "text": [
      "0.9332607907145448\n",
      "0.8927738927738927\n"
     ]
    }
   ],
   "source": [
    "from sklearn import metrics\n",
    "from sklearn.metrics import accuracy_score\n",
    "from sklearn.metrics import classification_report\n",
    "from sklearn.metrics import confusion_matrix\n",
    "\n",
    "    \n",
    "train_accuracy = metrics.accuracy_score(y_train, y_train_pred)\n",
    "test_accuracy = metrics.accuracy_score(y_test, y_test_pred)\n",
    "\n",
    "print(train_accuracy)\n",
    "print(test_accuracy)"
   ]
  },
  {
   "cell_type": "code",
   "execution_count": 37,
   "metadata": {},
   "outputs": [
    {
     "data": {
      "text/plain": [
       "0.06673920928545521"
      ]
     },
     "execution_count": 37,
     "metadata": {},
     "output_type": "execute_result"
    }
   ],
   "source": [
    "base_rate"
   ]
  },
  {
   "cell_type": "markdown",
   "metadata": {},
   "source": [
    "### 2.1.2 Precision"
   ]
  },
  {
   "cell_type": "markdown",
   "metadata": {},
   "source": [
    "<font color='red'>Assignment:</font> Calculate the training and testing **precision_score**s."
   ]
  },
  {
   "cell_type": "code",
   "execution_count": 35,
   "metadata": {},
   "outputs": [],
   "source": [
    "from sklearn.metrics import precision_score\n",
    "#help(precision_score)"
   ]
  },
  {
   "cell_type": "code",
   "execution_count": 27,
   "metadata": {},
   "outputs": [
    {
     "data": {
      "text/plain": [
       "0.0"
      ]
     },
     "execution_count": 27,
     "metadata": {},
     "output_type": "execute_result"
    }
   ],
   "source": [
    "precision_score(y_train, y_train_pred,average='binary')"
   ]
  },
  {
   "cell_type": "code",
   "execution_count": 28,
   "metadata": {},
   "outputs": [
    {
     "data": {
      "text/plain": [
       "0.9332607907145448"
      ]
     },
     "execution_count": 28,
     "metadata": {},
     "output_type": "execute_result"
    }
   ],
   "source": [
    "precision_score(y_train, y_train_pred,average='micro') #Calculate metrics globally by counting the total true positives,false negatives and false positives."
   ]
  },
  {
   "cell_type": "code",
   "execution_count": 29,
   "metadata": {},
   "outputs": [
    {
     "data": {
      "text/plain": [
       "0.4666303953572724"
      ]
     },
     "execution_count": 29,
     "metadata": {},
     "output_type": "execute_result"
    }
   ],
   "source": [
    "precision_score(y_train, y_train_pred,average='macro')#Calculate metrics for each label, and find their unweightedmean.  This does not take label imbalance into account."
   ]
  },
  {
   "cell_type": "code",
   "execution_count": 30,
   "metadata": {},
   "outputs": [
    {
     "data": {
      "text/plain": [
       "0.8709757034851374"
      ]
     },
     "execution_count": 30,
     "metadata": {},
     "output_type": "execute_result"
    }
   ],
   "source": [
    "precision_score(y_train, y_train_pred,average='weighted')"
   ]
  },
  {
   "cell_type": "code",
   "execution_count": 31,
   "metadata": {},
   "outputs": [
    {
     "data": {
      "text/plain": [
       "0.7970452236186502"
      ]
     },
     "execution_count": 31,
     "metadata": {},
     "output_type": "execute_result"
    }
   ],
   "source": [
    "precision_score(y_test, y_test_pred, average='weighted')"
   ]
  },
  {
   "cell_type": "markdown",
   "metadata": {},
   "source": [
    "<font color='red'>Question:</font> How is **precision_score** calculated?"
   ]
  },
  {
   "cell_type": "markdown",
   "metadata": {},
   "source": [
    "Compute the precision. The precision is the ratio tp / (tp + fp) where tp is the number of true positives and fp the number of false positives. The precision is intuitively the ability of the classifier not to label as positive a sample that is negative."
   ]
  },
  {
   "cell_type": "markdown",
   "metadata": {},
   "source": [
    "<font color='red'>Question:</font> If the **precision_score** for a model is 80%, what does it mean?"
   ]
  },
  {
   "cell_type": "markdown",
   "metadata": {},
   "source": [
    "\n",
    "predicted positive sample/ positive sample"
   ]
  },
  {
   "cell_type": "markdown",
   "metadata": {},
   "source": [
    "### 2.1.3 Recall"
   ]
  },
  {
   "cell_type": "markdown",
   "metadata": {},
   "source": [
    "<font color='red'>Assignment:</font> Calculate the training and testing **recall_score**s."
   ]
  },
  {
   "cell_type": "code",
   "execution_count": 32,
   "metadata": {},
   "outputs": [],
   "source": [
    "from sklearn.metrics import recall_score"
   ]
  },
  {
   "cell_type": "code",
   "execution_count": 34,
   "metadata": {},
   "outputs": [],
   "source": [
    "#help(recall_score)"
   ]
  },
  {
   "cell_type": "code",
   "execution_count": 34,
   "metadata": {},
   "outputs": [
    {
     "data": {
      "text/plain": [
       "0.9332607907145448"
      ]
     },
     "execution_count": 34,
     "metadata": {},
     "output_type": "execute_result"
    }
   ],
   "source": [
    "recall_score(y_train, y_train_pred, average='micro')"
   ]
  },
  {
   "cell_type": "code",
   "execution_count": 35,
   "metadata": {},
   "outputs": [
    {
     "data": {
      "text/plain": [
       "0.5"
      ]
     },
     "execution_count": 35,
     "metadata": {},
     "output_type": "execute_result"
    }
   ],
   "source": [
    "recall_score(y_train, y_train_pred, average='macro')"
   ]
  },
  {
   "cell_type": "code",
   "execution_count": 36,
   "metadata": {},
   "outputs": [
    {
     "data": {
      "text/plain": [
       "0.9332607907145448"
      ]
     },
     "execution_count": 36,
     "metadata": {},
     "output_type": "execute_result"
    }
   ],
   "source": [
    "recall_score(y_train, y_train_pred, average='weighted')"
   ]
  },
  {
   "cell_type": "code",
   "execution_count": 37,
   "metadata": {},
   "outputs": [
    {
     "data": {
      "text/plain": [
       "0.8927738927738927"
      ]
     },
     "execution_count": 37,
     "metadata": {},
     "output_type": "execute_result"
    }
   ],
   "source": [
    "recall_score(y_test, y_test_pred, average='micro')"
   ]
  },
  {
   "cell_type": "code",
   "execution_count": 38,
   "metadata": {},
   "outputs": [
    {
     "data": {
      "text/plain": [
       "0.5"
      ]
     },
     "execution_count": 38,
     "metadata": {},
     "output_type": "execute_result"
    }
   ],
   "source": [
    "recall_score(y_test, y_test_pred, average='macro')"
   ]
  },
  {
   "cell_type": "code",
   "execution_count": 39,
   "metadata": {},
   "outputs": [
    {
     "data": {
      "text/plain": [
       "0.8927738927738927"
      ]
     },
     "execution_count": 39,
     "metadata": {},
     "output_type": "execute_result"
    }
   ],
   "source": [
    "recall_score(y_test, y_test_pred, average='weighted')"
   ]
  },
  {
   "cell_type": "markdown",
   "metadata": {},
   "source": [
    "<font color='red'>Question:</font> How is **recall_score** calculated?"
   ]
  },
  {
   "cell_type": "markdown",
   "metadata": {},
   "source": [
    "https://docs.w3cub.com/scikit_learn/modules/generated/sklearn.metrics.recall_score\n",
    "\n",
    "The recall is the ratio tp / (tp + fn) where tp is the number of true positives and fn the number of false negatives. The recall is intuitively the ability of the classifier to find all the positive samples."
   ]
  },
  {
   "cell_type": "markdown",
   "metadata": {},
   "source": [
    "<font color='red'>Question:</font> If the **recall_score** for a model is 80%, what does it mean?"
   ]
  },
  {
   "cell_type": "markdown",
   "metadata": {},
   "source": [
    "The ones with right prediction acounts 80% in all sample labeled as 1(true value)."
   ]
  },
  {
   "cell_type": "markdown",
   "metadata": {},
   "source": [
    "### 2.1.4 F1 Score"
   ]
  },
  {
   "cell_type": "markdown",
   "metadata": {},
   "source": [
    "<font color='red'>Assignment:</font> Calculate the training and testing **f1_score**s."
   ]
  },
  {
   "cell_type": "code",
   "execution_count": 40,
   "metadata": {},
   "outputs": [],
   "source": [
    "from sklearn.metrics import f1_score"
   ]
  },
  {
   "cell_type": "code",
   "execution_count": 41,
   "metadata": {},
   "outputs": [
    {
     "data": {
      "text/plain": [
       "0.48273921200750475"
      ]
     },
     "execution_count": 41,
     "metadata": {},
     "output_type": "execute_result"
    }
   ],
   "source": [
    "f1_score(y_train, y_train_pred, average='macro')"
   ]
  },
  {
   "cell_type": "code",
   "execution_count": 42,
   "metadata": {},
   "outputs": [
    {
     "data": {
      "text/plain": [
       "0.47167487684729065"
      ]
     },
     "execution_count": 42,
     "metadata": {},
     "output_type": "execute_result"
    }
   ],
   "source": [
    "f1_score(y_test, y_test_pred, average='macro')"
   ]
  },
  {
   "cell_type": "markdown",
   "metadata": {},
   "source": [
    "<font color='red'>Question:</font> How is **f1_score** calculated?"
   ]
  },
  {
   "cell_type": "markdown",
   "metadata": {},
   "source": [
    "https://scikit-learn.org/stable/modules/generated/sklearn.metrics.f1_score.html\n",
    "\n",
    "F1 = 2 * (precision * recall) / (precision + recall)"
   ]
  },
  {
   "cell_type": "markdown",
   "metadata": {},
   "source": [
    "<font color='red'>Question:</font> Why do we need **f1_score**?"
   ]
  },
  {
   "cell_type": "markdown",
   "metadata": {},
   "source": [
    "https://towardsdatascience.com/the-f1-score-bec2bbc38aa6\n",
    "\n",
    "Accuracy is a useful metric only when you have an equal distribution of classes on your classification. This means that if you have a use case in which you observe more data points of one class than of another, the accuracy is not a useful metric anymore.\n",
    "\n",
    "Precision: the first part of the F1 score. Within everything that has been predicted as a positive, precision counts the percentage that is correct:\n",
    "A not precise model may find a lot of the positives, but its selection method is noisy: it also wrongly detects many positives that aren’t actually positives.\n",
    "A precise model is very “pure”: maybe it does not find all the positives, but the ones that the model does class as positive are very likely to be correct.\n",
    "\n",
    "Recall: the second part of the F1 score\n",
    "Within everything that actually is positive, how many did the model succeed to find:\n",
    "A model with high recall succeeds well in finding all the positive cases in the data, even though they may also wrongly identify some negative cases as positive cases.\n",
    "A model with low recall is not able to find all (or a large part) of the positive cases in the data."
   ]
  },
  {
   "cell_type": "markdown",
   "metadata": {},
   "source": [
    "### 2.1.5 Classification Report"
   ]
  },
  {
   "cell_type": "markdown",
   "metadata": {},
   "source": [
    "<font color='red'>Assignment:</font> Use **classification_report** to get systematic idea about model performance."
   ]
  },
  {
   "cell_type": "code",
   "execution_count": 43,
   "metadata": {},
   "outputs": [],
   "source": [
    "from sklearn.metrics import classification_report"
   ]
  },
  {
   "cell_type": "code",
   "execution_count": 33,
   "metadata": {},
   "outputs": [],
   "source": [
    "#help(classification_report)"
   ]
  },
  {
   "cell_type": "code",
   "execution_count": 45,
   "metadata": {},
   "outputs": [
    {
     "name": "stdout",
     "output_type": "stream",
     "text": [
      "              precision    recall  f1-score   support\n",
      "\n",
      "           0       0.93      1.00      0.97      2573\n",
      "           1       0.00      0.00      0.00       184\n",
      "\n",
      "    accuracy                           0.93      2757\n",
      "   macro avg       0.47      0.50      0.48      2757\n",
      "weighted avg       0.87      0.93      0.90      2757\n",
      "\n"
     ]
    }
   ],
   "source": [
    "print(classification_report(y_train, y_train_pred, labels=[0, 1]))"
   ]
  },
  {
   "cell_type": "code",
   "execution_count": 46,
   "metadata": {},
   "outputs": [
    {
     "name": "stdout",
     "output_type": "stream",
     "text": [
      "              precision    recall  f1-score   support\n",
      "\n",
      "           0       0.89      1.00      0.94       383\n",
      "           1       0.00      0.00      0.00        46\n",
      "\n",
      "    accuracy                           0.89       429\n",
      "   macro avg       0.45      0.50      0.47       429\n",
      "weighted avg       0.80      0.89      0.84       429\n",
      "\n"
     ]
    }
   ],
   "source": [
    "print(classification_report(y_test, y_test_pred, labels=[0, 1]))"
   ]
  },
  {
   "cell_type": "markdown",
   "metadata": {},
   "source": [
    "### 2.1.6 Confusion Matrix"
   ]
  },
  {
   "cell_type": "markdown",
   "metadata": {},
   "source": [
    "<font color='red'>Assignment:</font> Get the **confusion_matrix** of the model."
   ]
  },
  {
   "cell_type": "code",
   "execution_count": 47,
   "metadata": {},
   "outputs": [],
   "source": [
    "from sklearn.metrics import confusion_matrix "
   ]
  },
  {
   "cell_type": "code",
   "execution_count": 48,
   "metadata": {},
   "outputs": [
    {
     "data": {
      "text/plain": [
       "array([[2573,    0],\n",
       "       [ 184,    0]])"
      ]
     },
     "execution_count": 48,
     "metadata": {},
     "output_type": "execute_result"
    }
   ],
   "source": [
    "confusion_matrix(y_train, y_train_pred)"
   ]
  },
  {
   "cell_type": "code",
   "execution_count": 49,
   "metadata": {},
   "outputs": [
    {
     "data": {
      "text/plain": [
       "array([[383,   0],\n",
       "       [ 46,   0]])"
      ]
     },
     "execution_count": 49,
     "metadata": {},
     "output_type": "execute_result"
    }
   ],
   "source": [
    "confusion_matrix(y_test, y_test_pred)"
   ]
  },
  {
   "cell_type": "markdown",
   "metadata": {},
   "source": [
    "<font color='red'>Question:</font> What does every element in the confusion matrix represent, respectively?"
   ]
  },
  {
   "cell_type": "markdown",
   "metadata": {},
   "source": [
    "https://www.sciencedirect.com/topics/engineering/confusion-matrix\n",
    "\n",
    "11: ture value:1, predected:1\n",
    "\n",
    "10: true value:1, predicted:0\n",
    "\n",
    "01: true value:1, predicted: 0\n",
    "\n",
    "00: true value:0, predicted:0\n",
    "\n",
    "       Predicted\n",
    " True  [11,     10],\n",
    "       \n",
    "    [ 01,   00]"
   ]
  },
  {
   "cell_type": "markdown",
   "metadata": {},
   "source": [
    "<font color='red'>Question:</font> How can you calculate recall and precision with a confusion matrix?"
   ]
  },
  {
   "cell_type": "markdown",
   "metadata": {},
   "source": [
    "precision = 11/(11+01)\n",
    "\n",
    "recall = 11/(11+10)\n",
    "\n",
    "F-measure = 2*(precision * recall)/((precision + recall)"
   ]
  },
  {
   "cell_type": "markdown",
   "metadata": {},
   "source": [
    "## 2.2 All Positive Model"
   ]
  },
  {
   "cell_type": "markdown",
   "metadata": {},
   "source": [
    "### 2.2.1 Model Building"
   ]
  },
  {
   "cell_type": "markdown",
   "metadata": {},
   "source": [
    "<font color='red'>Assignment:</font> Build a model which always predicts 1."
   ]
  },
  {
   "cell_type": "code",
   "execution_count": 50,
   "metadata": {},
   "outputs": [],
   "source": [
    "from sklearn.dummy import DummyClassifier\n",
    "dummy_clf = DummyClassifier(strategy=\"constant\",constant = 1)\n",
    "\n",
    "dummy_clf.fit(train_raw,y_train)\n",
    "\n",
    "from sklearn.dummy import DummyClassifier\n",
    "from sklearn.pipeline import Pipeline\n",
    "from sklearn.preprocessing import StandardScaler\n",
    "\n",
    "steps = [('rf_tf ',rf_Transformer())\n",
    "         ,('Rescale', StandardScaler())\n",
    "         ,('dummy_clf', DummyClassifier(strategy=\"constant\",constant = 1))]\n",
    "allzeromodel= Pipeline(steps)\n",
    "\n",
    "allzeromodel=allzeromodel.fit(train_raw,y_train)"
   ]
  },
  {
   "cell_type": "code",
   "execution_count": 51,
   "metadata": {},
   "outputs": [],
   "source": [
    "y_train_pred = allzeromodel.predict(train_raw)\n",
    "y_test_pred = allzeromodel.predict(test_raw)"
   ]
  },
  {
   "cell_type": "markdown",
   "metadata": {},
   "source": [
    "<font color='red'>Assignment:</font> Make predictions for both training and testing data."
   ]
  },
  {
   "cell_type": "markdown",
   "metadata": {},
   "source": [
    "### 2.2.2 Scores and confusion matrices"
   ]
  },
  {
   "cell_type": "markdown",
   "metadata": {},
   "source": [
    "<font color='red'>Assignment:</font> Calculate the scores and confusion matrices of this model."
   ]
  },
  {
   "cell_type": "code",
   "execution_count": 52,
   "metadata": {},
   "outputs": [
    {
     "data": {
      "text/plain": [
       "0.06673920928545521"
      ]
     },
     "execution_count": 52,
     "metadata": {},
     "output_type": "execute_result"
    }
   ],
   "source": [
    "accuracy_score(y_train, y_train_pred)"
   ]
  },
  {
   "cell_type": "code",
   "execution_count": 53,
   "metadata": {},
   "outputs": [
    {
     "data": {
      "text/plain": [
       "0.10722610722610723"
      ]
     },
     "execution_count": 53,
     "metadata": {},
     "output_type": "execute_result"
    }
   ],
   "source": [
    "accuracy_score(y_test, y_test_pred)"
   ]
  },
  {
   "cell_type": "code",
   "execution_count": 54,
   "metadata": {},
   "outputs": [
    {
     "data": {
      "text/plain": [
       "0.033369604642727604"
      ]
     },
     "execution_count": 54,
     "metadata": {},
     "output_type": "execute_result"
    }
   ],
   "source": [
    "precision_score(y_train, y_train_pred, average='macro')"
   ]
  },
  {
   "cell_type": "code",
   "execution_count": 55,
   "metadata": {},
   "outputs": [
    {
     "data": {
      "text/plain": [
       "0.053613053613053616"
      ]
     },
     "execution_count": 55,
     "metadata": {},
     "output_type": "execute_result"
    }
   ],
   "source": [
    "precision_score(y_test, y_test_pred, average='macro')"
   ]
  },
  {
   "cell_type": "code",
   "execution_count": 56,
   "metadata": {},
   "outputs": [
    {
     "data": {
      "text/plain": [
       "0.5"
      ]
     },
     "execution_count": 56,
     "metadata": {},
     "output_type": "execute_result"
    }
   ],
   "source": [
    "recall_score(y_train, y_train_pred, average='macro')"
   ]
  },
  {
   "cell_type": "code",
   "execution_count": 57,
   "metadata": {},
   "outputs": [
    {
     "data": {
      "text/plain": [
       "0.5"
      ]
     },
     "execution_count": 57,
     "metadata": {},
     "output_type": "execute_result"
    }
   ],
   "source": [
    "recall_score(y_test, y_test_pred, average='macro')"
   ]
  },
  {
   "cell_type": "code",
   "execution_count": 58,
   "metadata": {},
   "outputs": [
    {
     "data": {
      "text/plain": [
       "0.06256375382522951"
      ]
     },
     "execution_count": 58,
     "metadata": {},
     "output_type": "execute_result"
    }
   ],
   "source": [
    "f1_score(y_train, y_train_pred, average='macro')"
   ]
  },
  {
   "cell_type": "code",
   "execution_count": 59,
   "metadata": {},
   "outputs": [
    {
     "data": {
      "text/plain": [
       "0.09684210526315791"
      ]
     },
     "execution_count": 59,
     "metadata": {},
     "output_type": "execute_result"
    }
   ],
   "source": [
    "f1_score(y_test, y_test_pred, average='macro')"
   ]
  },
  {
   "cell_type": "code",
   "execution_count": 60,
   "metadata": {},
   "outputs": [
    {
     "data": {
      "text/plain": [
       "array([[   0, 2573],\n",
       "       [   0,  184]])"
      ]
     },
     "execution_count": 60,
     "metadata": {},
     "output_type": "execute_result"
    }
   ],
   "source": [
    "confusion_matrix(y_train, y_train_pred)"
   ]
  },
  {
   "cell_type": "code",
   "execution_count": 61,
   "metadata": {},
   "outputs": [
    {
     "data": {
      "text/plain": [
       "array([[  0, 383],\n",
       "       [  0,  46]])"
      ]
     },
     "execution_count": 61,
     "metadata": {},
     "output_type": "execute_result"
    }
   ],
   "source": [
    "confusion_matrix(y_test, y_test_pred)"
   ]
  },
  {
   "cell_type": "code",
   "execution_count": 62,
   "metadata": {},
   "outputs": [
    {
     "data": {
      "text/plain": [
       "0.5"
      ]
     },
     "execution_count": 62,
     "metadata": {},
     "output_type": "execute_result"
    }
   ],
   "source": [
    "recall_score(y_train, y_train_pred, pos_label=1, average='macro')"
   ]
  },
  {
   "cell_type": "code",
   "execution_count": 63,
   "metadata": {},
   "outputs": [
    {
     "data": {
      "text/plain": [
       "0.06673920928545521"
      ]
     },
     "execution_count": 63,
     "metadata": {},
     "output_type": "execute_result"
    }
   ],
   "source": [
    "recall_score(y_train, y_train_pred, pos_label=1, average='weighted')"
   ]
  },
  {
   "cell_type": "code",
   "execution_count": 64,
   "metadata": {},
   "outputs": [
    {
     "name": "stdout",
     "output_type": "stream",
     "text": [
      "              precision    recall  f1-score   support\n",
      "\n",
      "           0       0.00      0.00      0.00      2573\n",
      "           1       0.07      1.00      0.13       184\n",
      "\n",
      "    accuracy                           0.07      2757\n",
      "   macro avg       0.03      0.50      0.06      2757\n",
      "weighted avg       0.00      0.07      0.01      2757\n",
      "\n"
     ]
    }
   ],
   "source": [
    "print(classification_report(y_train, y_train_pred, labels=[0, 1]))"
   ]
  },
  {
   "cell_type": "code",
   "execution_count": 66,
   "metadata": {},
   "outputs": [
    {
     "name": "stdout",
     "output_type": "stream",
     "text": [
      "              precision    recall  f1-score   support\n",
      "\n",
      "           0       0.00      0.00      0.00       383\n",
      "           1       0.11      1.00      0.19        46\n",
      "\n",
      "    accuracy                           0.11       429\n",
      "   macro avg       0.05      0.50      0.10       429\n",
      "weighted avg       0.01      0.11      0.02       429\n",
      "\n"
     ]
    }
   ],
   "source": [
    "print(classification_report(y_test, y_test_pred, labels=[0, 1]))"
   ]
  },
  {
   "cell_type": "markdown",
   "metadata": {},
   "source": [
    "<font color='red'>Question:</font> What are the difference between all-positive and all-negative models?"
   ]
  },
  {
   "cell_type": "markdown",
   "metadata": {},
   "source": [
    "This is an unblanced data set, in train set only 6.67% are positive sample, other 93.33% is negative sample. So all-negative model shows better metrics than all positive model."
   ]
  }
 ],
 "metadata": {
  "kernelspec": {
   "display_name": "Python 3 (ipykernel)",
   "language": "python",
   "name": "python3"
  },
  "language_info": {
   "codemirror_mode": {
    "name": "ipython",
    "version": 3
   },
   "file_extension": ".py",
   "mimetype": "text/x-python",
   "name": "python",
   "nbconvert_exporter": "python",
   "pygments_lexer": "ipython3",
   "version": "3.9.7"
  },
  "toc": {
   "base_numbering": 1,
   "nav_menu": {},
   "number_sections": true,
   "sideBar": true,
   "skip_h1_title": false,
   "title_cell": "Table of Contents",
   "title_sidebar": "Contents",
   "toc_cell": true,
   "toc_position": {
    "height": "calc(100% - 180px)",
    "left": "10px",
    "top": "150px",
    "width": "198.391px"
   },
   "toc_section_display": true,
   "toc_window_display": true
  }
 },
 "nbformat": 4,
 "nbformat_minor": 2
}

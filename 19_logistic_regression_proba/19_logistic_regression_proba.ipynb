{
 "cells": [
  {
   "cell_type": "markdown",
   "metadata": {
    "toc": true
   },
   "source": [
    "<h1>Table of Contents<span class=\"tocSkip\"></span></h1>\n",
    "<div class=\"toc\"><ul class=\"toc-item\"><li><span><a href=\"#Model-building\" data-toc-modified-id=\"Model-building-1\"><span class=\"toc-item-num\">1&nbsp;&nbsp;</span>Model building</a></span></li><li><span><a href=\"#Probability\" data-toc-modified-id=\"Probability-2\"><span class=\"toc-item-num\">2&nbsp;&nbsp;</span>Probability</a></span><ul class=\"toc-item\"><li><span><a href=\"#Predict_proba\" data-toc-modified-id=\"Predict_proba-2.1\"><span class=\"toc-item-num\">2.1&nbsp;&nbsp;</span>Predict_proba</a></span></li><li><span><a href=\"#Threshold\" data-toc-modified-id=\"Threshold-2.2\"><span class=\"toc-item-num\">2.2&nbsp;&nbsp;</span>Threshold</a></span></li><li><span><a href=\"#ROC-AUC\" data-toc-modified-id=\"ROC-AUC-2.3\"><span class=\"toc-item-num\">2.3&nbsp;&nbsp;</span>ROC AUC</a></span></li><li><span><a href=\"#Log-Loss\" data-toc-modified-id=\"Log-Loss-2.4\"><span class=\"toc-item-num\">2.4&nbsp;&nbsp;</span>Log Loss</a></span></li></ul></li><li><span><a href=\"#Correlation-between-features-and-target\" data-toc-modified-id=\"Correlation-between-features-and-target-3\"><span class=\"toc-item-num\">3&nbsp;&nbsp;</span>Correlation between features and target</a></span></li></ul></div>"
   ]
  },
  {
   "cell_type": "code",
   "execution_count": 1,
   "metadata": {},
   "outputs": [],
   "source": [
    "import pandas as pd\n",
    "import numpy as np\n",
    "import matplotlib.pyplot as plt\n",
    "import seaborn as sns\n",
    "sns.set(style=\"ticks\")\n",
    "sns.set_style(\"darkgrid\")\n",
    "\n",
    "import warnings\n",
    "warnings.filterwarnings('ignore')"
   ]
  },
  {
   "cell_type": "code",
   "execution_count": 2,
   "metadata": {},
   "outputs": [],
   "source": [
    "df = pd.read_csv('sales.csv')\n",
    "df.dropna(subset=['price'], inplace=True)"
   ]
  },
  {
   "cell_type": "code",
   "execution_count": 3,
   "metadata": {},
   "outputs": [
    {
     "data": {
      "text/html": [
       "<div>\n",
       "<style scoped>\n",
       "    .dataframe tbody tr th:only-of-type {\n",
       "        vertical-align: middle;\n",
       "    }\n",
       "\n",
       "    .dataframe tbody tr th {\n",
       "        vertical-align: top;\n",
       "    }\n",
       "\n",
       "    .dataframe thead th {\n",
       "        text-align: right;\n",
       "    }\n",
       "</style>\n",
       "<table border=\"1\" class=\"dataframe\">\n",
       "  <thead>\n",
       "    <tr style=\"text-align: right;\">\n",
       "      <th></th>\n",
       "      <th>cost</th>\n",
       "      <th>price</th>\n",
       "      <th>weight</th>\n",
       "      <th>purchase_date</th>\n",
       "      <th>product_type</th>\n",
       "      <th>product_level</th>\n",
       "      <th>maker</th>\n",
       "      <th>ingredient</th>\n",
       "      <th>height</th>\n",
       "      <th>width</th>\n",
       "      <th>depth</th>\n",
       "    </tr>\n",
       "  </thead>\n",
       "  <tbody>\n",
       "    <tr>\n",
       "      <th>0</th>\n",
       "      <td>$333k</td>\n",
       "      <td>$300,492</td>\n",
       "      <td>3 Ton 90 Kg</td>\n",
       "      <td>Dec 19 2008</td>\n",
       "      <td>Q,B</td>\n",
       "      <td>advanced</td>\n",
       "      <td>M14122</td>\n",
       "      <td>IN732052,IN732053</td>\n",
       "      <td>2.76 meters</td>\n",
       "      <td>97 cm</td>\n",
       "      <td>26 cm</td>\n",
       "    </tr>\n",
       "    <tr>\n",
       "      <th>1</th>\n",
       "      <td>NaN</td>\n",
       "      <td>$430,570</td>\n",
       "      <td>3 Ton 30 Kg</td>\n",
       "      <td>Sep 10 1997</td>\n",
       "      <td>J,D</td>\n",
       "      <td>basic</td>\n",
       "      <td>NaN</td>\n",
       "      <td>IN732054,IN732055,IN732056,IN732057,IN732058</td>\n",
       "      <td>2.67 meters</td>\n",
       "      <td>98 cm</td>\n",
       "      <td>26 cm</td>\n",
       "    </tr>\n",
       "    <tr>\n",
       "      <th>2</th>\n",
       "      <td>$270k</td>\n",
       "      <td>$213,070</td>\n",
       "      <td>3 Ton 40 Kg</td>\n",
       "      <td>Sep 05 2001</td>\n",
       "      <td>J,D</td>\n",
       "      <td>basic</td>\n",
       "      <td>NaN</td>\n",
       "      <td>IN732054,IN732059,IN732060</td>\n",
       "      <td>3.0 meters</td>\n",
       "      <td>93 cm</td>\n",
       "      <td>24 cm</td>\n",
       "    </tr>\n",
       "    <tr>\n",
       "      <th>3</th>\n",
       "      <td>NaN</td>\n",
       "      <td>$229,174</td>\n",
       "      <td>3 Ton 50 Kg</td>\n",
       "      <td>Dec 23 2016</td>\n",
       "      <td>U</td>\n",
       "      <td>advanced</td>\n",
       "      <td>M14123</td>\n",
       "      <td>IN732061,IN732062,IN732063</td>\n",
       "      <td>2.5 meters</td>\n",
       "      <td>102 cm</td>\n",
       "      <td>27 cm</td>\n",
       "    </tr>\n",
       "    <tr>\n",
       "      <th>4</th>\n",
       "      <td>$97k</td>\n",
       "      <td>$122,659</td>\n",
       "      <td>2 Ton 970 Kg</td>\n",
       "      <td>Jan 12 2000</td>\n",
       "      <td>D,R</td>\n",
       "      <td>advanced</td>\n",
       "      <td>NaN</td>\n",
       "      <td>IN732064,IN732065,IN732066</td>\n",
       "      <td>2.47 meters</td>\n",
       "      <td>101 cm</td>\n",
       "      <td>26 cm</td>\n",
       "    </tr>\n",
       "  </tbody>\n",
       "</table>\n",
       "</div>"
      ],
      "text/plain": [
       "    cost     price        weight purchase_date product_type product_level  \\\n",
       "0  $333k  $300,492   3 Ton 90 Kg   Dec 19 2008          Q,B      advanced   \n",
       "1    NaN  $430,570   3 Ton 30 Kg   Sep 10 1997          J,D         basic   \n",
       "2  $270k  $213,070   3 Ton 40 Kg   Sep 05 2001          J,D         basic   \n",
       "3    NaN  $229,174   3 Ton 50 Kg   Dec 23 2016            U      advanced   \n",
       "4   $97k  $122,659  2 Ton 970 Kg   Jan 12 2000          D,R      advanced   \n",
       "\n",
       "    maker                                    ingredient       height   width  \\\n",
       "0  M14122                             IN732052,IN732053  2.76 meters   97 cm   \n",
       "1     NaN  IN732054,IN732055,IN732056,IN732057,IN732058  2.67 meters   98 cm   \n",
       "2     NaN                    IN732054,IN732059,IN732060   3.0 meters   93 cm   \n",
       "3  M14123                    IN732061,IN732062,IN732063   2.5 meters  102 cm   \n",
       "4     NaN                    IN732064,IN732065,IN732066  2.47 meters  101 cm   \n",
       "\n",
       "   depth  \n",
       "0  26 cm  \n",
       "1  26 cm  \n",
       "2  24 cm  \n",
       "3  27 cm  \n",
       "4  26 cm  "
      ]
     },
     "execution_count": 3,
     "metadata": {},
     "output_type": "execute_result"
    }
   ],
   "source": [
    "df.head()"
   ]
  },
  {
   "cell_type": "code",
   "execution_count": 4,
   "metadata": {},
   "outputs": [],
   "source": [
    "df['year'] = pd.to_datetime(df.purchase_date).dt.year\n",
    "train_raw = df[df.year < 2015]\n",
    "train_raw.index = range(len(train_raw))\n",
    "test_raw = df[df.year >= 2015]\n",
    "test_raw.index = range(len(test_raw))"
   ]
  },
  {
   "cell_type": "markdown",
   "metadata": {},
   "source": [
    "## Model building"
   ]
  },
  {
   "cell_type": "markdown",
   "metadata": {},
   "source": [
    "\n",
    "<font color='red'>Assignment:</font> Get **luxury** (**price** higher than 500k dollars) as targets, and build a end-to-end model to predict wheather a product is **luxury** using **cost** values."
   ]
  },
  {
   "cell_type": "code",
   "execution_count": 5,
   "metadata": {},
   "outputs": [],
   "source": [
    "def price2target(x):\n",
    "    if type(x) == str:\n",
    "        x = float(x.strip('$').replace(',',''))\n",
    "    \n",
    "    if x > 500000.0:\n",
    "        return 1\n",
    "    return 0\n",
    "\n",
    "y_train = train_raw.price.map(price2target)\n",
    "y_test =  test_raw.price.map(price2target)"
   ]
  },
  {
   "cell_type": "code",
   "execution_count": 6,
   "metadata": {},
   "outputs": [],
   "source": [
    "class Cost_Transformer(object):\n",
    "    \n",
    "    def fit(self, X, y=None):\n",
    "        df = pd.DataFrame()\n",
    "        df['cost'] = X.cost.map(lambda x: float(x.strip('$').strip('k')) * 1000 if type(x) == str else x)\n",
    "        #self.median = df.median()\n",
    "        self.mean = df.mean()\n",
    "        \n",
    "    def transform(self, X, y=None):\n",
    "        df = pd.DataFrame()\n",
    "        df['cost'] = X.cost.map(lambda x: float(x.strip('$').strip('k')) * 1000 if type(x) == str else x)\n",
    "        #return df.fillna(self.median)\n",
    "        return df.fillna(self.mean)\n",
    "    \n",
    "    def fit_transform(self, X, y=None):\n",
    "        self.fit(X)\n",
    "        return self.transform(X)"
   ]
  },
  {
   "cell_type": "code",
   "execution_count": 92,
   "metadata": {},
   "outputs": [],
   "source": [
    "ct = Cost_Transformer()"
   ]
  },
  {
   "cell_type": "code",
   "execution_count": 93,
   "metadata": {},
   "outputs": [],
   "source": [
    "X_train = ct.fit_transform(train_raw)"
   ]
  },
  {
   "cell_type": "code",
   "execution_count": 7,
   "metadata": {},
   "outputs": [],
   "source": [
    "from sklearn.pipeline import Pipeline\n",
    "from sklearn.preprocessing import MinMaxScaler\n",
    "from sklearn.linear_model import LogisticRegression\n",
    "\n",
    "steps = [('ct ', Cost_Transformer())\n",
    "         ,('Rescale', MinMaxScaler())\n",
    "         ,('Lgr', LogisticRegression(class_weight='balanced'))]\n",
    "pipe= Pipeline(steps)\n",
    "\n",
    "lgrmodel=pipe.fit(train_raw, y_train)\n",
    "\n",
    "y_train_pred = lgrmodel.predict(train_raw)\n",
    "y_test_pred = lgrmodel.predict(test_raw)"
   ]
  },
  {
   "cell_type": "markdown",
   "metadata": {},
   "source": [
    "## Probability"
   ]
  },
  {
   "cell_type": "markdown",
   "metadata": {},
   "source": [
    "### Predict_proba"
   ]
  },
  {
   "cell_type": "markdown",
   "metadata": {},
   "source": [
    "<font color='red'>Assignment:</font> Use the **predict_proba** function of the model to make predictions for the training and testing sets and assign the outputs to variables **y_train_proba** and **y_test_proba**."
   ]
  },
  {
   "cell_type": "code",
   "execution_count": 8,
   "metadata": {},
   "outputs": [],
   "source": [
    "y_train_proba = lgrmodel.predict_proba(train_raw)\n",
    "y_test_proba = lgrmodel.predict_proba(test_raw)"
   ]
  },
  {
   "cell_type": "markdown",
   "metadata": {},
   "source": [
    "<font color='red'>Question:</font> What are the shapes of **y_train_proba** and **y_test_proba**? Why are they different from the outputs obtained with the **predict** function? Which parts of **y_train_proba** and **y_test_proba** should we care about in this case? "
   ]
  },
  {
   "cell_type": "markdown",
   "metadata": {},
   "source": [
    "y_train_proba.shape= (2757, 2)\n",
    "y_test_proba.shape= (429, 2)\n",
    "y_train_pred.shape= (2757,)\n",
    "y_test_pred.shape= (429,)\n",
    "\n",
    "y_train_pred and y_test_pred, they are labels, type 0 or type 1.\n",
    "\n",
    "Probability has two columns: Probability to be 0 and probability to be 1.\n",
    "\n",
    "We care about column['1'], minor sample group."
   ]
  },
  {
   "cell_type": "code",
   "execution_count": 9,
   "metadata": {},
   "outputs": [
    {
     "name": "stdout",
     "output_type": "stream",
     "text": [
      "y_train_proba.shape= (2757, 2)\n",
      "y_test_proba.shape= (429, 2)\n"
     ]
    }
   ],
   "source": [
    "print('y_train_proba.shape=',y_train_proba.shape)\n",
    "print('y_test_proba.shape=',y_test_proba.shape)"
   ]
  },
  {
   "cell_type": "code",
   "execution_count": 10,
   "metadata": {},
   "outputs": [
    {
     "data": {
      "text/plain": [
       "array([1, 0, 1, ..., 0, 0, 0])"
      ]
     },
     "execution_count": 10,
     "metadata": {},
     "output_type": "execute_result"
    }
   ],
   "source": [
    "y_train_pred"
   ]
  },
  {
   "cell_type": "code",
   "execution_count": 11,
   "metadata": {},
   "outputs": [
    {
     "data": {
      "text/plain": [
       "array([0, 0, 0, 0, 0, 0, 0, 0, 0, 0, 0, 0, 0, 0, 1, 1, 0, 0, 0, 0, 0, 0,\n",
       "       0, 0, 0, 1, 0, 0, 1, 1, 0, 0, 0, 1, 0, 0, 0, 0, 1, 0, 0, 1, 0, 0,\n",
       "       0, 0, 0, 0, 0, 0, 0, 0, 0, 0, 0, 0, 0, 0, 1, 1, 0, 0, 0, 0, 0, 0,\n",
       "       1, 0, 0, 0, 0, 0, 0, 0, 1, 0, 1, 0, 0, 0, 0, 1, 0, 1, 0, 0, 0, 0,\n",
       "       0, 0, 0, 0, 1, 0, 0, 0, 1, 0, 1, 1, 0, 0, 0, 0, 0, 0, 0, 0, 0, 0,\n",
       "       1, 0, 0, 0, 1, 0, 0, 0, 1, 1, 0, 0, 0, 0, 1, 0, 0, 0, 0, 0, 0, 0,\n",
       "       1, 0, 0, 0, 1, 0, 0, 0, 1, 0, 1, 0, 1, 0, 1, 0, 1, 1, 0, 1, 0, 1,\n",
       "       0, 0, 0, 0, 0, 0, 1, 0, 0, 0, 0, 1, 1, 0, 0, 0, 1, 0, 0, 0, 0, 0,\n",
       "       0, 0, 0, 0, 0, 0, 0, 0, 1, 0, 0, 1, 0, 0, 0, 0, 0, 0, 0, 0, 0, 0,\n",
       "       0, 0, 0, 1, 0, 1, 1, 0, 0, 0, 0, 0, 0, 0, 0, 0, 0, 0, 0, 0, 1, 0,\n",
       "       0, 0, 0, 1, 0, 0, 0, 0, 0, 0, 0, 0, 0, 1, 0, 0, 0, 0, 1, 0, 0, 0,\n",
       "       1, 0, 1, 0, 0, 0, 0, 0, 0, 0, 0, 0, 1, 0, 0, 0, 0, 0, 0, 1, 0, 0,\n",
       "       0, 0, 0, 1, 0, 0, 0, 0, 0, 0, 0, 0, 0, 1, 0, 0, 0, 1, 1, 0, 0, 0,\n",
       "       0, 0, 0, 1, 0, 0, 0, 0, 0, 1, 1, 1, 0, 0, 0, 0, 0, 0, 1, 0, 0, 0,\n",
       "       0, 0, 0, 0, 0, 0, 0, 0, 0, 0, 0, 0, 0, 0, 0, 0, 0, 1, 0, 0, 0, 0,\n",
       "       0, 0, 0, 0, 0, 0, 0, 0, 0, 0, 0, 0, 0, 0, 1, 1, 0, 0, 0, 0, 0, 1,\n",
       "       1, 0, 1, 0, 0, 0, 0, 1, 1, 1, 0, 0, 0, 0, 0, 0, 1, 0, 0, 0, 0, 0,\n",
       "       0, 0, 0, 1, 0, 0, 1, 0, 0, 1, 0, 0, 0, 0, 0, 0, 0, 0, 0, 0, 0, 1,\n",
       "       0, 0, 1, 1, 0, 1, 0, 0, 0, 0, 0, 0, 0, 0, 0, 0, 0, 0, 1, 0, 0, 0,\n",
       "       0, 0, 0, 0, 0, 0, 0, 0, 1, 0, 0])"
      ]
     },
     "execution_count": 11,
     "metadata": {},
     "output_type": "execute_result"
    }
   ],
   "source": [
    "y_test_pred"
   ]
  },
  {
   "cell_type": "markdown",
   "metadata": {},
   "source": [
    "<font color='red'>Question:</font> What is the range of the values in **y_train_proba** and **y_test_proba**? What do the values mean?\n"
   ]
  },
  {
   "cell_type": "code",
   "execution_count": 36,
   "metadata": {},
   "outputs": [
    {
     "data": {
      "text/html": [
       "<div>\n",
       "<style scoped>\n",
       "    .dataframe tbody tr th:only-of-type {\n",
       "        vertical-align: middle;\n",
       "    }\n",
       "\n",
       "    .dataframe tbody tr th {\n",
       "        vertical-align: top;\n",
       "    }\n",
       "\n",
       "    .dataframe thead th {\n",
       "        text-align: right;\n",
       "    }\n",
       "</style>\n",
       "<table border=\"1\" class=\"dataframe\">\n",
       "  <thead>\n",
       "    <tr style=\"text-align: right;\">\n",
       "      <th></th>\n",
       "      <th>prob=0</th>\n",
       "      <th>prob=1</th>\n",
       "    </tr>\n",
       "  </thead>\n",
       "  <tbody>\n",
       "    <tr>\n",
       "      <th>0</th>\n",
       "      <td>0.275364</td>\n",
       "      <td>0.724636</td>\n",
       "    </tr>\n",
       "    <tr>\n",
       "      <th>1</th>\n",
       "      <td>0.661630</td>\n",
       "      <td>0.338370</td>\n",
       "    </tr>\n",
       "    <tr>\n",
       "      <th>2</th>\n",
       "      <td>0.413646</td>\n",
       "      <td>0.586354</td>\n",
       "    </tr>\n",
       "    <tr>\n",
       "      <th>3</th>\n",
       "      <td>0.794123</td>\n",
       "      <td>0.205877</td>\n",
       "    </tr>\n",
       "    <tr>\n",
       "      <th>4</th>\n",
       "      <td>0.848531</td>\n",
       "      <td>0.151469</td>\n",
       "    </tr>\n",
       "    <tr>\n",
       "      <th>...</th>\n",
       "      <td>...</td>\n",
       "      <td>...</td>\n",
       "    </tr>\n",
       "    <tr>\n",
       "      <th>2752</th>\n",
       "      <td>0.452199</td>\n",
       "      <td>0.547801</td>\n",
       "    </tr>\n",
       "    <tr>\n",
       "      <th>2753</th>\n",
       "      <td>0.803589</td>\n",
       "      <td>0.196411</td>\n",
       "    </tr>\n",
       "    <tr>\n",
       "      <th>2754</th>\n",
       "      <td>0.661630</td>\n",
       "      <td>0.338370</td>\n",
       "    </tr>\n",
       "    <tr>\n",
       "      <th>2755</th>\n",
       "      <td>0.866507</td>\n",
       "      <td>0.133493</td>\n",
       "    </tr>\n",
       "    <tr>\n",
       "      <th>2756</th>\n",
       "      <td>0.739917</td>\n",
       "      <td>0.260083</td>\n",
       "    </tr>\n",
       "  </tbody>\n",
       "</table>\n",
       "<p>2757 rows × 2 columns</p>\n",
       "</div>"
      ],
      "text/plain": [
       "        prob=0    prob=1\n",
       "0     0.275364  0.724636\n",
       "1     0.661630  0.338370\n",
       "2     0.413646  0.586354\n",
       "3     0.794123  0.205877\n",
       "4     0.848531  0.151469\n",
       "...        ...       ...\n",
       "2752  0.452199  0.547801\n",
       "2753  0.803589  0.196411\n",
       "2754  0.661630  0.338370\n",
       "2755  0.866507  0.133493\n",
       "2756  0.739917  0.260083\n",
       "\n",
       "[2757 rows x 2 columns]"
      ]
     },
     "execution_count": 36,
     "metadata": {},
     "output_type": "execute_result"
    }
   ],
   "source": [
    "df_prob_train = pd.DataFrame(y_train_proba)\n",
    "df_prob_train.columns = ['prob=0','prob=1']\n",
    "df_prob_train"
   ]
  },
  {
   "cell_type": "code",
   "execution_count": 13,
   "metadata": {},
   "outputs": [
    {
     "data": {
      "text/html": [
       "<div>\n",
       "<style scoped>\n",
       "    .dataframe tbody tr th:only-of-type {\n",
       "        vertical-align: middle;\n",
       "    }\n",
       "\n",
       "    .dataframe tbody tr th {\n",
       "        vertical-align: top;\n",
       "    }\n",
       "\n",
       "    .dataframe thead th {\n",
       "        text-align: right;\n",
       "    }\n",
       "</style>\n",
       "<table border=\"1\" class=\"dataframe\">\n",
       "  <thead>\n",
       "    <tr style=\"text-align: right;\">\n",
       "      <th></th>\n",
       "      <th>prob=0</th>\n",
       "      <th>prob=1</th>\n",
       "    </tr>\n",
       "  </thead>\n",
       "  <tbody>\n",
       "    <tr>\n",
       "      <th>0</th>\n",
       "      <td>0.661630</td>\n",
       "      <td>0.338370</td>\n",
       "    </tr>\n",
       "    <tr>\n",
       "      <th>1</th>\n",
       "      <td>0.675090</td>\n",
       "      <td>0.324910</td>\n",
       "    </tr>\n",
       "    <tr>\n",
       "      <th>2</th>\n",
       "      <td>0.675090</td>\n",
       "      <td>0.324910</td>\n",
       "    </tr>\n",
       "    <tr>\n",
       "      <th>3</th>\n",
       "      <td>0.661630</td>\n",
       "      <td>0.338370</td>\n",
       "    </tr>\n",
       "    <tr>\n",
       "      <th>4</th>\n",
       "      <td>0.893381</td>\n",
       "      <td>0.106619</td>\n",
       "    </tr>\n",
       "    <tr>\n",
       "      <th>...</th>\n",
       "      <td>...</td>\n",
       "      <td>...</td>\n",
       "    </tr>\n",
       "    <tr>\n",
       "      <th>424</th>\n",
       "      <td>0.874260</td>\n",
       "      <td>0.125740</td>\n",
       "    </tr>\n",
       "    <tr>\n",
       "      <th>425</th>\n",
       "      <td>0.661630</td>\n",
       "      <td>0.338370</td>\n",
       "    </tr>\n",
       "    <tr>\n",
       "      <th>426</th>\n",
       "      <td>0.038554</td>\n",
       "      <td>0.961446</td>\n",
       "    </tr>\n",
       "    <tr>\n",
       "      <th>427</th>\n",
       "      <td>0.661630</td>\n",
       "      <td>0.338370</td>\n",
       "    </tr>\n",
       "    <tr>\n",
       "      <th>428</th>\n",
       "      <td>0.661630</td>\n",
       "      <td>0.338370</td>\n",
       "    </tr>\n",
       "  </tbody>\n",
       "</table>\n",
       "<p>429 rows × 2 columns</p>\n",
       "</div>"
      ],
      "text/plain": [
       "       prob=0    prob=1\n",
       "0    0.661630  0.338370\n",
       "1    0.675090  0.324910\n",
       "2    0.675090  0.324910\n",
       "3    0.661630  0.338370\n",
       "4    0.893381  0.106619\n",
       "..        ...       ...\n",
       "424  0.874260  0.125740\n",
       "425  0.661630  0.338370\n",
       "426  0.038554  0.961446\n",
       "427  0.661630  0.338370\n",
       "428  0.661630  0.338370\n",
       "\n",
       "[429 rows x 2 columns]"
      ]
     },
     "execution_count": 13,
     "metadata": {},
     "output_type": "execute_result"
    }
   ],
   "source": [
    "df_prob_test = pd.DataFrame(y_test_proba)\n",
    "df_prob_test.columns = ['prob=0','prob=1']\n",
    "df_prob_test"
   ]
  },
  {
   "cell_type": "code",
   "execution_count": 14,
   "metadata": {},
   "outputs": [
    {
     "name": "stdout",
     "output_type": "stream",
     "text": [
      "train_prob_range= [0.09337985566062995, 0.9990682052928109]\n"
     ]
    }
   ],
   "source": [
    "train_prob_range = [min(df_prob_train['prob=1']),max(df_prob_train['prob=1'])]\n",
    "print('train_prob_range=',train_prob_range)"
   ]
  },
  {
   "cell_type": "code",
   "execution_count": 15,
   "metadata": {},
   "outputs": [
    {
     "name": "stdout",
     "output_type": "stream",
     "text": [
      "test_prob_range= [0.09337985566062995, 0.9956607865394056]\n"
     ]
    }
   ],
   "source": [
    "test_prob_range = [min(df_prob_test['prob=1']),max(df_prob_test['prob=1'])]\n",
    "print('test_prob_range=',test_prob_range)"
   ]
  },
  {
   "cell_type": "markdown",
   "metadata": {},
   "source": [
    "### Threshold"
   ]
  },
  {
   "cell_type": "markdown",
   "metadata": {},
   "source": [
    "<font color='red'>Assignment:</font> Plot **y_test_proba** versus **cost** and compare it with the plot of **y_test** versus **cost**."
   ]
  },
  {
   "cell_type": "code",
   "execution_count": 16,
   "metadata": {},
   "outputs": [],
   "source": [
    "cost_test = Cost_Transformer().fit_transform(test_raw)"
   ]
  },
  {
   "cell_type": "code",
   "execution_count": 17,
   "metadata": {},
   "outputs": [
    {
     "data": {
      "text/plain": [
       "<matplotlib.collections.PathCollection at 0x7fea100fbf40>"
      ]
     },
     "execution_count": 17,
     "metadata": {},
     "output_type": "execute_result"
    },
    {
     "data": {
      "image/png": "[encoded data removed]",
      "text/plain": [
       "<Figure size 432x288 with 1 Axes>"
      ]
     },
     "metadata": {},
     "output_type": "display_data"
    }
   ],
   "source": [
    "plt.scatter(cost_test, y_test_proba[:,1])\n",
    "plt.scatter(cost_test,y_test)"
   ]
  },
  {
   "cell_type": "markdown",
   "metadata": {},
   "source": [
    "<font color='red'>Assignment:</font> Calculate **y_test_pred** using **predict** function. Plot **y_test_proba** versus **cost** and compare it with the plot of **y_test_pred** versus **cost**."
   ]
  },
  {
   "cell_type": "code",
   "execution_count": 18,
   "metadata": {},
   "outputs": [],
   "source": [
    "y_test_pred = lgrmodel.predict(test_raw)"
   ]
  },
  {
   "cell_type": "code",
   "execution_count": 19,
   "metadata": {},
   "outputs": [
    {
     "data": {
      "text/plain": [
       "<matplotlib.collections.PathCollection at 0x7fea23c572e0>"
      ]
     },
     "execution_count": 19,
     "metadata": {},
     "output_type": "execute_result"
    },
    {
     "data": {
      "image/png": "[encoded data removed]",
      "text/plain": [
       "<Figure size 432x288 with 1 Axes>"
      ]
     },
     "metadata": {},
     "output_type": "display_data"
    }
   ],
   "source": [
    "plt.scatter(cost_test, y_test_proba[:,1])\n",
    "plt.scatter(cost_test,y_test_pred)"
   ]
  },
  {
   "cell_type": "markdown",
   "metadata": {},
   "source": [
    "<font color='red'>Question:</font> How can we transform **y_test_proba** to **y_test_pred**? What is the default threshold?"
   ]
  },
  {
   "cell_type": "markdown",
   "metadata": {},
   "source": [
    "for i in y_test_proba:\n",
    "    if i > 0.5:\n",
    "        y_test_pred = 1\n",
    "    else:\n",
    "        y_test_pred = 0"
   ]
  },
  {
   "cell_type": "markdown",
   "metadata": {},
   "source": [
    "<font color='red'>Assignment:</font> Change the threshold value applied in the transformation from **y_test_proba** to **y_test_pred**, and visualize how the threshold value changes **precision**, **recall**, and **f1 score**. "
   ]
  },
  {
   "cell_type": "code",
   "execution_count": 20,
   "metadata": {},
   "outputs": [
    {
     "data": {
      "text/html": [
       "<div>\n",
       "<style scoped>\n",
       "    .dataframe tbody tr th:only-of-type {\n",
       "        vertical-align: middle;\n",
       "    }\n",
       "\n",
       "    .dataframe tbody tr th {\n",
       "        vertical-align: top;\n",
       "    }\n",
       "\n",
       "    .dataframe thead th {\n",
       "        text-align: right;\n",
       "    }\n",
       "</style>\n",
       "<table border=\"1\" class=\"dataframe\">\n",
       "  <thead>\n",
       "    <tr style=\"text-align: right;\">\n",
       "      <th></th>\n",
       "      <th>prob=0</th>\n",
       "      <th>prob=1</th>\n",
       "    </tr>\n",
       "  </thead>\n",
       "  <tbody>\n",
       "    <tr>\n",
       "      <th>0</th>\n",
       "      <td>0.661630</td>\n",
       "      <td>0.338370</td>\n",
       "    </tr>\n",
       "    <tr>\n",
       "      <th>1</th>\n",
       "      <td>0.675090</td>\n",
       "      <td>0.324910</td>\n",
       "    </tr>\n",
       "    <tr>\n",
       "      <th>2</th>\n",
       "      <td>0.675090</td>\n",
       "      <td>0.324910</td>\n",
       "    </tr>\n",
       "    <tr>\n",
       "      <th>3</th>\n",
       "      <td>0.661630</td>\n",
       "      <td>0.338370</td>\n",
       "    </tr>\n",
       "    <tr>\n",
       "      <th>4</th>\n",
       "      <td>0.893381</td>\n",
       "      <td>0.106619</td>\n",
       "    </tr>\n",
       "    <tr>\n",
       "      <th>...</th>\n",
       "      <td>...</td>\n",
       "      <td>...</td>\n",
       "    </tr>\n",
       "    <tr>\n",
       "      <th>424</th>\n",
       "      <td>0.874260</td>\n",
       "      <td>0.125740</td>\n",
       "    </tr>\n",
       "    <tr>\n",
       "      <th>425</th>\n",
       "      <td>0.661630</td>\n",
       "      <td>0.338370</td>\n",
       "    </tr>\n",
       "    <tr>\n",
       "      <th>426</th>\n",
       "      <td>0.038554</td>\n",
       "      <td>0.961446</td>\n",
       "    </tr>\n",
       "    <tr>\n",
       "      <th>427</th>\n",
       "      <td>0.661630</td>\n",
       "      <td>0.338370</td>\n",
       "    </tr>\n",
       "    <tr>\n",
       "      <th>428</th>\n",
       "      <td>0.661630</td>\n",
       "      <td>0.338370</td>\n",
       "    </tr>\n",
       "  </tbody>\n",
       "</table>\n",
       "<p>429 rows × 2 columns</p>\n",
       "</div>"
      ],
      "text/plain": [
       "       prob=0    prob=1\n",
       "0    0.661630  0.338370\n",
       "1    0.675090  0.324910\n",
       "2    0.675090  0.324910\n",
       "3    0.661630  0.338370\n",
       "4    0.893381  0.106619\n",
       "..        ...       ...\n",
       "424  0.874260  0.125740\n",
       "425  0.661630  0.338370\n",
       "426  0.038554  0.961446\n",
       "427  0.661630  0.338370\n",
       "428  0.661630  0.338370\n",
       "\n",
       "[429 rows x 2 columns]"
      ]
     },
     "execution_count": 20,
     "metadata": {},
     "output_type": "execute_result"
    }
   ],
   "source": [
    "df_prob_test = pd.DataFrame(y_test_proba)\n",
    "df_prob_test.columns = ['prob=0','prob=1']\n",
    "df_prob_test"
   ]
  },
  {
   "cell_type": "code",
   "execution_count": 23,
   "metadata": {},
   "outputs": [],
   "source": [
    "class prob_threshold_transform(object):\n",
    "    \n",
    "    def prob_threshold(self, df_prob, threshold):\n",
    "        '''\n",
    "        provide df_probability with a certin threshold\n",
    "        '''\n",
    "        \n",
    "        prob_th_form = pd.DataFrame()\n",
    "        for i in range(df_prob.shape[0]):\n",
    "            column_name = 'y_test_pred (threshold='+str(round(threshold,1))+')'\n",
    "            if df_prob.loc[i,'prob=1'] > threshold:\n",
    "                prob_th_form.loc[i,column_name] = 1\n",
    "            else:\n",
    "                prob_th_form.loc[i,column_name] = 0\n",
    "        return prob_th_form       \n",
    "\n",
    "    def th_form(self, df_prob): \n",
    "        '''\n",
    "        create a dataframe, \n",
    "        shows the type of label with threshold from 0.1~1\n",
    "        '''\n",
    "        th_form = pd.DataFrame()\n",
    "        thresholds = [i for i in np.linspace(0.1, 1, 10)]\n",
    "        \n",
    "        for threshold in thresholds:\n",
    "            df_= self.prob_threshold(df_prob, threshold)\n",
    "            th_form = pd.concat([th_form,df_],axis=1)\n",
    "        return th_form  "
   ]
  },
  {
   "cell_type": "code",
   "execution_count": 24,
   "metadata": {},
   "outputs": [],
   "source": [
    "ptd = prob_threshold_transform()\n",
    "#ptd.th_form(df_prob_test)"
   ]
  },
  {
   "cell_type": "code",
   "execution_count": 25,
   "metadata": {},
   "outputs": [
    {
     "data": {
      "text/html": [
       "<div>\n",
       "<style scoped>\n",
       "    .dataframe tbody tr th:only-of-type {\n",
       "        vertical-align: middle;\n",
       "    }\n",
       "\n",
       "    .dataframe tbody tr th {\n",
       "        vertical-align: top;\n",
       "    }\n",
       "\n",
       "    .dataframe thead th {\n",
       "        text-align: right;\n",
       "    }\n",
       "</style>\n",
       "<table border=\"1\" class=\"dataframe\">\n",
       "  <thead>\n",
       "    <tr style=\"text-align: right;\">\n",
       "      <th></th>\n",
       "      <th>y_test_pred (threshold=0.1)</th>\n",
       "      <th>y_test_pred (threshold=0.2)</th>\n",
       "      <th>y_test_pred (threshold=0.3)</th>\n",
       "      <th>y_test_pred (threshold=0.4)</th>\n",
       "      <th>y_test_pred (threshold=0.5)</th>\n",
       "      <th>y_test_pred (threshold=0.6)</th>\n",
       "      <th>y_test_pred (threshold=0.7)</th>\n",
       "      <th>y_test_pred (threshold=0.8)</th>\n",
       "      <th>y_test_pred (threshold=0.9)</th>\n",
       "      <th>y_test_pred (threshold=1.0)</th>\n",
       "    </tr>\n",
       "  </thead>\n",
       "  <tbody>\n",
       "    <tr>\n",
       "      <th>0</th>\n",
       "      <td>1.0</td>\n",
       "      <td>1.0</td>\n",
       "      <td>1.0</td>\n",
       "      <td>0.0</td>\n",
       "      <td>0.0</td>\n",
       "      <td>0.0</td>\n",
       "      <td>0.0</td>\n",
       "      <td>0.0</td>\n",
       "      <td>0.0</td>\n",
       "      <td>0.0</td>\n",
       "    </tr>\n",
       "    <tr>\n",
       "      <th>1</th>\n",
       "      <td>1.0</td>\n",
       "      <td>1.0</td>\n",
       "      <td>1.0</td>\n",
       "      <td>0.0</td>\n",
       "      <td>0.0</td>\n",
       "      <td>0.0</td>\n",
       "      <td>0.0</td>\n",
       "      <td>0.0</td>\n",
       "      <td>0.0</td>\n",
       "      <td>0.0</td>\n",
       "    </tr>\n",
       "    <tr>\n",
       "      <th>2</th>\n",
       "      <td>1.0</td>\n",
       "      <td>1.0</td>\n",
       "      <td>1.0</td>\n",
       "      <td>0.0</td>\n",
       "      <td>0.0</td>\n",
       "      <td>0.0</td>\n",
       "      <td>0.0</td>\n",
       "      <td>0.0</td>\n",
       "      <td>0.0</td>\n",
       "      <td>0.0</td>\n",
       "    </tr>\n",
       "    <tr>\n",
       "      <th>3</th>\n",
       "      <td>1.0</td>\n",
       "      <td>1.0</td>\n",
       "      <td>1.0</td>\n",
       "      <td>0.0</td>\n",
       "      <td>0.0</td>\n",
       "      <td>0.0</td>\n",
       "      <td>0.0</td>\n",
       "      <td>0.0</td>\n",
       "      <td>0.0</td>\n",
       "      <td>0.0</td>\n",
       "    </tr>\n",
       "    <tr>\n",
       "      <th>4</th>\n",
       "      <td>1.0</td>\n",
       "      <td>0.0</td>\n",
       "      <td>0.0</td>\n",
       "      <td>0.0</td>\n",
       "      <td>0.0</td>\n",
       "      <td>0.0</td>\n",
       "      <td>0.0</td>\n",
       "      <td>0.0</td>\n",
       "      <td>0.0</td>\n",
       "      <td>0.0</td>\n",
       "    </tr>\n",
       "    <tr>\n",
       "      <th>...</th>\n",
       "      <td>...</td>\n",
       "      <td>...</td>\n",
       "      <td>...</td>\n",
       "      <td>...</td>\n",
       "      <td>...</td>\n",
       "      <td>...</td>\n",
       "      <td>...</td>\n",
       "      <td>...</td>\n",
       "      <td>...</td>\n",
       "      <td>...</td>\n",
       "    </tr>\n",
       "    <tr>\n",
       "      <th>424</th>\n",
       "      <td>1.0</td>\n",
       "      <td>0.0</td>\n",
       "      <td>0.0</td>\n",
       "      <td>0.0</td>\n",
       "      <td>0.0</td>\n",
       "      <td>0.0</td>\n",
       "      <td>0.0</td>\n",
       "      <td>0.0</td>\n",
       "      <td>0.0</td>\n",
       "      <td>0.0</td>\n",
       "    </tr>\n",
       "    <tr>\n",
       "      <th>425</th>\n",
       "      <td>1.0</td>\n",
       "      <td>1.0</td>\n",
       "      <td>1.0</td>\n",
       "      <td>0.0</td>\n",
       "      <td>0.0</td>\n",
       "      <td>0.0</td>\n",
       "      <td>0.0</td>\n",
       "      <td>0.0</td>\n",
       "      <td>0.0</td>\n",
       "      <td>0.0</td>\n",
       "    </tr>\n",
       "    <tr>\n",
       "      <th>426</th>\n",
       "      <td>1.0</td>\n",
       "      <td>1.0</td>\n",
       "      <td>1.0</td>\n",
       "      <td>1.0</td>\n",
       "      <td>1.0</td>\n",
       "      <td>1.0</td>\n",
       "      <td>1.0</td>\n",
       "      <td>1.0</td>\n",
       "      <td>1.0</td>\n",
       "      <td>0.0</td>\n",
       "    </tr>\n",
       "    <tr>\n",
       "      <th>427</th>\n",
       "      <td>1.0</td>\n",
       "      <td>1.0</td>\n",
       "      <td>1.0</td>\n",
       "      <td>0.0</td>\n",
       "      <td>0.0</td>\n",
       "      <td>0.0</td>\n",
       "      <td>0.0</td>\n",
       "      <td>0.0</td>\n",
       "      <td>0.0</td>\n",
       "      <td>0.0</td>\n",
       "    </tr>\n",
       "    <tr>\n",
       "      <th>428</th>\n",
       "      <td>1.0</td>\n",
       "      <td>1.0</td>\n",
       "      <td>1.0</td>\n",
       "      <td>0.0</td>\n",
       "      <td>0.0</td>\n",
       "      <td>0.0</td>\n",
       "      <td>0.0</td>\n",
       "      <td>0.0</td>\n",
       "      <td>0.0</td>\n",
       "      <td>0.0</td>\n",
       "    </tr>\n",
       "  </tbody>\n",
       "</table>\n",
       "<p>429 rows × 10 columns</p>\n",
       "</div>"
      ],
      "text/plain": [
       "     y_test_pred (threshold=0.1)  y_test_pred (threshold=0.2)  \\\n",
       "0                            1.0                          1.0   \n",
       "1                            1.0                          1.0   \n",
       "2                            1.0                          1.0   \n",
       "3                            1.0                          1.0   \n",
       "4                            1.0                          0.0   \n",
       "..                           ...                          ...   \n",
       "424                          1.0                          0.0   \n",
       "425                          1.0                          1.0   \n",
       "426                          1.0                          1.0   \n",
       "427                          1.0                          1.0   \n",
       "428                          1.0                          1.0   \n",
       "\n",
       "     y_test_pred (threshold=0.3)  y_test_pred (threshold=0.4)  \\\n",
       "0                            1.0                          0.0   \n",
       "1                            1.0                          0.0   \n",
       "2                            1.0                          0.0   \n",
       "3                            1.0                          0.0   \n",
       "4                            0.0                          0.0   \n",
       "..                           ...                          ...   \n",
       "424                          0.0                          0.0   \n",
       "425                          1.0                          0.0   \n",
       "426                          1.0                          1.0   \n",
       "427                          1.0                          0.0   \n",
       "428                          1.0                          0.0   \n",
       "\n",
       "     y_test_pred (threshold=0.5)  y_test_pred (threshold=0.6)  \\\n",
       "0                            0.0                          0.0   \n",
       "1                            0.0                          0.0   \n",
       "2                            0.0                          0.0   \n",
       "3                            0.0                          0.0   \n",
       "4                            0.0                          0.0   \n",
       "..                           ...                          ...   \n",
       "424                          0.0                          0.0   \n",
       "425                          0.0                          0.0   \n",
       "426                          1.0                          1.0   \n",
       "427                          0.0                          0.0   \n",
       "428                          0.0                          0.0   \n",
       "\n",
       "     y_test_pred (threshold=0.7)  y_test_pred (threshold=0.8)  \\\n",
       "0                            0.0                          0.0   \n",
       "1                            0.0                          0.0   \n",
       "2                            0.0                          0.0   \n",
       "3                            0.0                          0.0   \n",
       "4                            0.0                          0.0   \n",
       "..                           ...                          ...   \n",
       "424                          0.0                          0.0   \n",
       "425                          0.0                          0.0   \n",
       "426                          1.0                          1.0   \n",
       "427                          0.0                          0.0   \n",
       "428                          0.0                          0.0   \n",
       "\n",
       "     y_test_pred (threshold=0.9)  y_test_pred (threshold=1.0)  \n",
       "0                            0.0                          0.0  \n",
       "1                            0.0                          0.0  \n",
       "2                            0.0                          0.0  \n",
       "3                            0.0                          0.0  \n",
       "4                            0.0                          0.0  \n",
       "..                           ...                          ...  \n",
       "424                          0.0                          0.0  \n",
       "425                          0.0                          0.0  \n",
       "426                          1.0                          0.0  \n",
       "427                          0.0                          0.0  \n",
       "428                          0.0                          0.0  \n",
       "\n",
       "[429 rows x 10 columns]"
      ]
     },
     "execution_count": 25,
     "metadata": {},
     "output_type": "execute_result"
    }
   ],
   "source": [
    "y_test_prob = ptd.th_form(df_prob_test)\n",
    "y_test_prob"
   ]
  },
  {
   "cell_type": "code",
   "execution_count": 27,
   "metadata": {},
   "outputs": [],
   "source": [
    "from sklearn.metrics import precision_score, recall_score, f1_score\n",
    "from sklearn import metrics\n",
    "from sklearn.metrics import accuracy_score\n",
    "from sklearn.metrics import classification_report\n",
    "from sklearn.metrics import confusion_matrix\n",
    "\n",
    "\n",
    "class get_scores(object):\n",
    "    \n",
    "    def __init__(self, df_prob, y_true):\n",
    "        self.precision = []\n",
    "        self.recall = []\n",
    "        self.f1 = []\n",
    "        self.df_prob = df_prob\n",
    "        self.y_true = y_true\n",
    "       \n",
    "        \n",
    "    def scores_list(self, y_pred):\n",
    "    \n",
    "        # precision\n",
    "        #train_precision = metrics.precision_score(y_train, y_train_pred)\n",
    "        precision = metrics.precision_score(self.y_true, y_pred)\n",
    "        # Recall\n",
    "        #train_recall = metrics.recall_score(y_train, y_train_pred)\n",
    "        recall = metrics.recall_score(self.y_true, y_pred)\n",
    "        # F1-score\n",
    "        #train_f1_score = metrics.f1_score(y_train, y_train_pred)\n",
    "        f1_score = metrics.f1_score(self.y_true, y_pred)\n",
    "        \n",
    "        self.precision.append(precision)\n",
    "        self.recall.append(recall)\n",
    "        self.f1.append(f1_score)\n",
    "        \n",
    "    def get_scores_from_prob_threshold_form(self):\n",
    "        \n",
    "        for i in range(self.df_prob.shape[1]):\n",
    "            y_pred = self.df_prob.iloc[:, i]    #df_prob = y_test_prob\n",
    "            self.scores_list(y_pred)\n"
   ]
  },
  {
   "cell_type": "code",
   "execution_count": 28,
   "metadata": {},
   "outputs": [],
   "source": [
    "\n",
    "def plot(precision, recall, f1):\n",
    "    \n",
    "    #print('ts.precision=',ts.precision)\n",
    "    #print('test_recall=',ts.recall)\n",
    "    #print('F1-score=',ts.f1)\n",
    "\n",
    "    plt.figure(figsize=(8,6))\n",
    "    plt.plot(np.linspace(0.1, 1, 10), precision,label = 'precision')\n",
    "    plt.plot(np.linspace(0.1, 1, 10), recall, label = 'recall')\n",
    "    plt.plot(np.linspace(0.1, 1, 10), f1, label = 'f1')\n",
    "    plt.legend()\n",
    "    plt.show"
   ]
  },
  {
   "cell_type": "code",
   "execution_count": 29,
   "metadata": {},
   "outputs": [
    {
     "data": {
      "image/png": "[encoded data removed]",
      "text/plain": [
       "<Figure size 576x432 with 1 Axes>"
      ]
     },
     "metadata": {},
     "output_type": "display_data"
    }
   ],
   "source": [
    "gs = get_scores(y_test_prob, y_test)\n",
    "gs.get_scores_from_prob_threshold_form()\n",
    "plot(gs.precision, gs.recall, gs.f1)"
   ]
  },
  {
   "cell_type": "markdown",
   "metadata": {},
   "source": [
    "<font color='red'>Question:</font> What threshold value would you like to choose? How do we decide which threshold to choose? Could you provide some examples?"
   ]
  },
  {
   "cell_type": "code",
   "execution_count": 30,
   "metadata": {},
   "outputs": [
    {
     "data": {
      "text/plain": [
       "0.3"
      ]
     },
     "execution_count": 30,
     "metadata": {},
     "output_type": "execute_result"
    }
   ],
   "source": [
    "0.3"
   ]
  },
  {
   "cell_type": "markdown",
   "metadata": {},
   "source": [
    "<font color='red'>Question:</font> Is the threshold a hyper parameter? What kind of dataset should we use to find the threshold?"
   ]
  },
  {
   "cell_type": "markdown",
   "metadata": {},
   "source": [
    "No. \n",
    "\n",
    "Train set."
   ]
  },
  {
   "cell_type": "markdown",
   "metadata": {},
   "source": [
    "### ROC AUC"
   ]
  },
  {
   "cell_type": "markdown",
   "metadata": {},
   "source": [
    "<font color='red'>Assignment:</font> Calculate the train and test **roc_auc_score**s. "
   ]
  },
  {
   "cell_type": "code",
   "execution_count": 31,
   "metadata": {},
   "outputs": [
    {
     "data": {
      "text/plain": [
       "0       0\n",
       "1       0\n",
       "2       0\n",
       "3       0\n",
       "4       0\n",
       "       ..\n",
       "2752    0\n",
       "2753    0\n",
       "2754    0\n",
       "2755    0\n",
       "2756    0\n",
       "Name: price, Length: 2757, dtype: int64"
      ]
     },
     "execution_count": 31,
     "metadata": {},
     "output_type": "execute_result"
    }
   ],
   "source": [
    "y_train = train_raw.price.map(price2target)\n",
    "y_train"
   ]
  },
  {
   "cell_type": "code",
   "execution_count": 32,
   "metadata": {},
   "outputs": [
    {
     "data": {
      "text/plain": [
       "(2757,)"
      ]
     },
     "execution_count": 32,
     "metadata": {},
     "output_type": "execute_result"
    }
   ],
   "source": [
    "y_train_pred = lgrmodel.predict(train_raw)\n",
    "y_train_pred.shape"
   ]
  },
  {
   "cell_type": "code",
   "execution_count": 39,
   "metadata": {},
   "outputs": [
    {
     "data": {
      "text/plain": [
       "array([[0.27536354, 0.72463646],\n",
       "       [0.66162999, 0.33837001],\n",
       "       [0.41364604, 0.58635396],\n",
       "       ...,\n",
       "       [0.66162999, 0.33837001],\n",
       "       [0.86650741, 0.13349259],\n",
       "       [0.73991718, 0.26008282]])"
      ]
     },
     "execution_count": 39,
     "metadata": {},
     "output_type": "execute_result"
    }
   ],
   "source": [
    "y_train_proba = lgrmodel.predict_proba(train_raw)\n",
    "y_train_proba"
   ]
  },
  {
   "cell_type": "code",
   "execution_count": 84,
   "metadata": {},
   "outputs": [],
   "source": [
    "from sklearn import metrics\n",
    "from sklearn.metrics import accuracy_score\n",
    "from sklearn.metrics import classification_report\n",
    "from sklearn.metrics import confusion_matrix\n",
    "\n",
    "def get_all_scores(y_train, y_test, y_train_pred, y_test_pred, y_train_proba, y_test_proba):\n",
    "    #accuracy\n",
    "    train_accuracy = metrics.accuracy_score(y_train, y_train_pred)\n",
    "    test_accuracy = metrics.accuracy_score(y_test, y_test_pred)\n",
    "    \n",
    "    # precision\n",
    "    train_precision = metrics.precision_score(y_train, y_train_pred)\n",
    "    test_precision = metrics.precision_score(y_test, y_test_pred)\n",
    "    \n",
    "    # Recall\n",
    "    train_recall = metrics.recall_score(y_train, y_train_pred)\n",
    "    test_recall = metrics.recall_score(y_test, y_test_pred)\n",
    "    \n",
    "    # F1-score\n",
    "    train_f1_score = metrics.f1_score(y_train, y_train_pred)\n",
    "    test_f1_score = metrics.f1_score(y_test, y_test_pred)\n",
    "    \n",
    "    # AUC\n",
    "    train_auc_score = metrics.roc_auc_score(y_train, y_train_proba)\n",
    "    test_auc_score = metrics.roc_auc_score(y_test, y_test_proba)\n",
    "    \n",
    "    # ROC\n",
    "    train_fprs, train_tprs, train_thresholds = metrics.roc_curve(y_train, y_train_proba)\n",
    "    test_fprs, test_tprs, test_thresholds = metrics.roc_curve(y_test, y_test_proba)\n",
    "    \n",
    "    \n",
    "    #probrange = np.linspace(y_train_proba[:,1].min(),y_train_proba[:,1].max(),50,endpoint=False)\n",
    "    #plt.plot(probrange+0.05,probrange+0.05,color=\"black\",linestyle=\"--\")\n",
    "    \n",
    "    plt.plot(train_fprs, train_tprs,label = 'roc_train_set')\n",
    "    plt.plot(test_fprs, test_tprs,label = 'roc_test_set')\n",
    "    plt.title(\"ROC Curve\")\n",
    "    plt.xlabel(\"FPR\")\n",
    "    plt.ylabel(\"TPR\")\n",
    "    plt.legend(loc = 4)\n",
    "    plt.show()\n",
    "    \n",
    "    \n",
    "    #Print\n",
    "    print(\"train_accuracy：\", train_accuracy)\n",
    "    print(\"test_accuracy：\", test_accuracy)\n",
    "    print(\"train_precision：\", train_precision)\n",
    "    print(\"test_precision：\", test_precision)\n",
    "    print(\"train_recall：\", train_recall)\n",
    "    print(\"test_recall：\", test_recall)\n",
    "    print(\"train_f1_score：\", train_f1_score)\n",
    "    print(\"test_f1_score：\", test_f1_score)\n",
    "    print(\"train_auc_score：\", train_auc_score)\n",
    "    print(\"test_auc_score：\", test_auc_score)\n",
    "    \n"
   ]
  },
  {
   "cell_type": "code",
   "execution_count": 85,
   "metadata": {},
   "outputs": [
    {
     "data": {
      "image/png": "[encoded data removed]",
      "text/plain": [
       "<Figure size 432x288 with 1 Axes>"
      ]
     },
     "metadata": {},
     "output_type": "display_data"
    },
    {
     "name": "stdout",
     "output_type": "stream",
     "text": [
      "train_accuracy： 0.8581791802684077\n",
      "test_accuracy： 0.8717948717948718\n",
      "train_precision： 0.278372591006424\n",
      "test_precision： 0.4430379746835443\n",
      "train_recall： 0.7065217391304348\n",
      "test_recall： 0.7608695652173914\n",
      "train_f1_score： 0.39938556067588327\n",
      "test_f1_score： 0.5599999999999999\n",
      "train_auc_score： 0.8540709119789114\n",
      "test_auc_score： 0.8788454989215575\n"
     ]
    }
   ],
   "source": [
    "get_all_scores(y_train, y_test, y_train_pred, y_test_pred, y_train_proba[:,1], y_test_proba[:,1])"
   ]
  },
  {
   "cell_type": "markdown",
   "metadata": {},
   "source": [
    "<font color='red'>Question:</font> What do **ROC** and **AUC** stand for? "
   ]
  },
  {
   "cell_type": "markdown",
   "metadata": {},
   "source": [
    "When we need to check or visualize the performance of the multi-class classification problem, we use the AUC (Area Under The Curve) ROC (Receiver Operating Characteristics) curve. It is one of the most important evaluation metrics for checking any classification model's performance."
   ]
  },
  {
   "cell_type": "markdown",
   "metadata": {},
   "source": [
    "<font color='red'>Assignment:</font> Plot the ROC curve of test scores, use the **roc_curve** module in sklearn to obtain relevant data. "
   ]
  },
  {
   "cell_type": "markdown",
   "metadata": {},
   "source": [
    "See above"
   ]
  },
  {
   "cell_type": "markdown",
   "metadata": {},
   "source": [
    "<font color='red'>Question:</font> What are the x and y axes? "
   ]
  },
  {
   "cell_type": "markdown",
   "metadata": {},
   "source": [
    "X: False positive rate, y: true positive rate\n",
    "\n",
    "https://developers.google.com/machine-learning/crash-course/classification/roc-and-auc"
   ]
  },
  {
   "cell_type": "markdown",
   "metadata": {},
   "source": [
    "<font color='red'>Question:</font> What is the range of **roc_auc_score**? What does it mean when **roc_auc_score** is greater than, equal to, or less than 0.5?"
   ]
  },
  {
   "cell_type": "code",
   "execution_count": 58,
   "metadata": {},
   "outputs": [
    {
     "data": {
      "text/plain": [
       "[0.09337985566062995, 0.9990682052928109]"
      ]
     },
     "execution_count": 58,
     "metadata": {},
     "output_type": "execute_result"
    }
   ],
   "source": [
    "[y_train_proba[:,1].min(),y_train_proba[:,1].max()]"
   ]
  },
  {
   "cell_type": "markdown",
   "metadata": {},
   "source": [
    "### Log Loss"
   ]
  },
  {
   "cell_type": "markdown",
   "metadata": {},
   "source": [
    "**Knowledge:** The loss function for logistic regression is called **log loss** or **cross entropy**."
   ]
  },
  {
   "cell_type": "markdown",
   "metadata": {},
   "source": [
    "<font color='red'>Assignment:</font> Calculate the train and test log loss."
   ]
  },
  {
   "cell_type": "code",
   "execution_count": 75,
   "metadata": {},
   "outputs": [],
   "source": [
    "from sklearn.metrics import log_loss"
   ]
  },
  {
   "cell_type": "code",
   "execution_count": 78,
   "metadata": {},
   "outputs": [
    {
     "data": {
      "text/plain": [
       "0.4585697586776646"
      ]
     },
     "execution_count": 78,
     "metadata": {},
     "output_type": "execute_result"
    }
   ],
   "source": [
    "log_loss(y_train, y_train_proba)"
   ]
  },
  {
   "cell_type": "code",
   "execution_count": 79,
   "metadata": {},
   "outputs": [
    {
     "data": {
      "text/plain": [
       "0.47312495144145705"
      ]
     },
     "execution_count": 79,
     "metadata": {},
     "output_type": "execute_result"
    }
   ],
   "source": [
    "log_loss(y_test, y_test_proba)"
   ]
  },
  {
   "cell_type": "markdown",
   "metadata": {},
   "source": [
    "<font color='red'>Question:</font> Which of these following terms are sensitive to base rates: **log loss**, **ROC AUC**, and **threshold**?"
   ]
  },
  {
   "cell_type": "markdown",
   "metadata": {},
   "source": [
    "\n",
    "\n",
    "https://towardsdatascience.com/intuition-behind-log-loss-score-4e0c9979680a\n",
    "\n",
    "\n",
    "binary log_loss = y_pred*log(1-y_true) + (1-y_pred)log(y_true)\n"
   ]
  },
  {
   "cell_type": "markdown",
   "metadata": {},
   "source": [
    "<font color='red'>Question:</font> If you are assigned to build a classification model to help increasing the <span class=\"burk\"><span class=\"mark\">response rate</span></span> in direct mail marketing, what will be the target for you model? Which metrics will you use to evaluate the performance of your model?"
   ]
  },
  {
   "cell_type": "markdown",
   "metadata": {},
   "source": [
    "Target of the model: customer response ->1, not response -> 0, or the probability of customer responsing.\n",
    "\n",
    "ROC."
   ]
  },
  {
   "cell_type": "markdown",
   "metadata": {},
   "source": [
    "## Correlation between features and target"
   ]
  },
  {
   "cell_type": "markdown",
   "metadata": {},
   "source": [
    "<font color='red'>Assignment:</font> Plot the distributions of **cost** values for positive and negative **luxury** items, respectively, in one figure. Use the data in the training set."
   ]
  },
  {
   "cell_type": "code",
   "execution_count": 136,
   "metadata": {},
   "outputs": [],
   "source": [
    "#X_train"
   ]
  },
  {
   "cell_type": "code",
   "execution_count": 137,
   "metadata": {},
   "outputs": [],
   "source": [
    "#y_train"
   ]
  },
  {
   "cell_type": "code",
   "execution_count": 116,
   "metadata": {},
   "outputs": [],
   "source": [
    "y_1 = y_train[y_train == 1]\n",
    "y_0 = y_train[y_train ==0]\n",
    "X_1 = X_train.iloc[y_1.index,:]\n",
    "X_0 = X_train.iloc[y_0.index,:]"
   ]
  },
  {
   "cell_type": "code",
   "execution_count": 174,
   "metadata": {},
   "outputs": [
    {
     "data": {
      "text/plain": [
       "[]"
      ]
     },
     "execution_count": 174,
     "metadata": {},
     "output_type": "execute_result"
    },
    {
     "data": {
      "image/png": "[encoded data removed]",
      "text/plain": [
       "<Figure size 720x432 with 1 Axes>"
      ]
     },
     "metadata": {},
     "output_type": "display_data"
    }
   ],
   "source": [
    "plt.figure(figsize=(10,6))\n",
    "plt.hist(X_1,alpha = 1, color ='purple', label = 'Luxury')\n",
    "plt.hist(X_0,alpha = 0.5,color ='orange',label = 'Not Luxury')\n",
    "plt.xlabel('cost')\n",
    "plt.ylabel('count')\n",
    "plt.legend()\n",
    "plt.plot()"
   ]
  },
  {
   "cell_type": "markdown",
   "metadata": {},
   "source": [
    "<font color='red'>Question:</font> From the above figure, can you tell how good **cost** is a predictor for luxury?"
   ]
  },
  {
   "cell_type": "markdown",
   "metadata": {},
   "source": [
    "Not good. It is hard to see a clear trend of cost vs. luxury or not."
   ]
  },
  {
   "cell_type": "markdown",
   "metadata": {},
   "source": [
    "**Example:** Mannualy calculate the ROC AUC score of cost predictor. We can use this method to estimate the importance of a feature, before we use it in a model."
   ]
  },
  {
   "cell_type": "code",
   "execution_count": 192,
   "metadata": {},
   "outputs": [
    {
     "data": {
      "text/html": [
       "<div>\n",
       "<style scoped>\n",
       "    .dataframe tbody tr th:only-of-type {\n",
       "        vertical-align: middle;\n",
       "    }\n",
       "\n",
       "    .dataframe tbody tr th {\n",
       "        vertical-align: top;\n",
       "    }\n",
       "\n",
       "    .dataframe thead th {\n",
       "        text-align: right;\n",
       "    }\n",
       "</style>\n",
       "<table border=\"1\" class=\"dataframe\">\n",
       "  <thead>\n",
       "    <tr style=\"text-align: right;\">\n",
       "      <th></th>\n",
       "      <th>cost</th>\n",
       "      <th>price</th>\n",
       "    </tr>\n",
       "  </thead>\n",
       "  <tbody>\n",
       "    <tr>\n",
       "      <th>0</th>\n",
       "      <td>333000.000000</td>\n",
       "      <td>0</td>\n",
       "    </tr>\n",
       "    <tr>\n",
       "      <th>1</th>\n",
       "      <td>166184.183143</td>\n",
       "      <td>0</td>\n",
       "    </tr>\n",
       "    <tr>\n",
       "      <th>2</th>\n",
       "      <td>270000.000000</td>\n",
       "      <td>0</td>\n",
       "    </tr>\n",
       "    <tr>\n",
       "      <th>3</th>\n",
       "      <td>97000.000000</td>\n",
       "      <td>0</td>\n",
       "    </tr>\n",
       "    <tr>\n",
       "      <th>4</th>\n",
       "      <td>59000.000000</td>\n",
       "      <td>0</td>\n",
       "    </tr>\n",
       "  </tbody>\n",
       "</table>\n",
       "</div>"
      ],
      "text/plain": [
       "            cost  price\n",
       "0  333000.000000      0\n",
       "1  166184.183143      0\n",
       "2  270000.000000      0\n",
       "3   97000.000000      0\n",
       "4   59000.000000      0"
      ]
     },
     "execution_count": 192,
     "metadata": {},
     "output_type": "execute_result"
    }
   ],
   "source": [
    "# preparation\n",
    "train = Cost_Transformer().fit_transform(train_raw)\n",
    "train['price'] = y_train\n",
    "train.head()"
   ]
  },
  {
   "cell_type": "code",
   "execution_count": 194,
   "metadata": {},
   "outputs": [],
   "source": [
    "# number of positive data points\n",
    "num_pos = sum(train.price)\n",
    "# number of negative data points\n",
    "num_neg = len(train) - num_pos\n",
    "# thresholds\n",
    "ths = sorted(list(train.cost.unique()))"
   ]
  },
  {
   "cell_type": "code",
   "execution_count": 89,
   "metadata": {},
   "outputs": [],
   "source": [
    "tprs = []\n",
    "fprs = []\n",
    "auc = 0.0\n",
    "tpr0 = 1.0\n",
    "fpr0 = 1.0\n",
    "for th in ths:\n",
    "    # true positive rates\n",
    "    true_pos = sum(train[train['cost'] >= th]['price'])\n",
    "    tpr = true_pos / num_pos\n",
    "    tprs.append(tpr)\n",
    "    \n",
    "    # false positive rates\n",
    "    false_pos = sum(train['cost'] >= th) - true_pos\n",
    "    fpr = false_pos / num_neg\n",
    "    fprs.append(fpr)\n",
    "    \n",
    "    # area under curve\n",
    "    auc += (fpr0 - fpr) * (tpr0 + tpr)/2.0\n",
    "    fpr0 = fpr\n",
    "    tpr0 = tpr\n",
    "    "
   ]
  },
  {
   "cell_type": "code",
   "execution_count": 90,
   "metadata": {},
   "outputs": [
    {
     "data": {
      "text/plain": [
       "Text(0, 0.5, 'true positive rate')"
      ]
     },
     "execution_count": 90,
     "metadata": {},
     "output_type": "execute_result"
    },
    {
     "data": {
      "image/png": "[encoded data removed]",
      "text/plain": [
       "<Figure size 432x288 with 1 Axes>"
      ]
     },
     "metadata": {},
     "output_type": "display_data"
    }
   ],
   "source": [
    "plt.plot(fprs, tprs)\n",
    "plt.text(0.8, 0.2, 'auc={0:.2f}'.format(auc))\n",
    "plt.xlabel('false positive rate')\n",
    "plt.ylabel('true positive rate')"
   ]
  }
 ],
 "metadata": {
  "kernelspec": {
   "display_name": "Python 3 (ipykernel)",
   "language": "python",
   "name": "python3"
  },
  "language_info": {
   "codemirror_mode": {
    "name": "ipython",
    "version": 3
   },
   "file_extension": ".py",
   "mimetype": "text/x-python",
   "name": "python",
   "nbconvert_exporter": "python",
   "pygments_lexer": "ipython3",
   "version": "3.9.7"
  },
  "toc": {
   "base_numbering": 1,
   "nav_menu": {},
   "number_sections": true,
   "sideBar": true,
   "skip_h1_title": true,
   "title_cell": "Table of Contents",
   "title_sidebar": "Contents",
   "toc_cell": true,
   "toc_position": {},
   "toc_section_display": true,
   "toc_window_display": true
  }
 },
 "nbformat": 4,
 "nbformat_minor": 2
}
